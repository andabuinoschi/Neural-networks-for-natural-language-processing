{
 "cells": [
  {
   "cell_type": "markdown",
   "id": "01294a7b-0ad0-41c4-b554-211e8d29db6e",
   "metadata": {
    "tags": []
   },
   "source": [
    "# Laborator 1"
   ]
  },
  {
   "cell_type": "code",
   "execution_count": 1,
   "id": "cd6fd918-501e-4f90-99d1-0f5154b7fa55",
   "metadata": {},
   "outputs": [
    {
     "name": "stderr",
     "output_type": "stream",
     "text": [
      "[nltk_data] Downloading package wordnet to\n",
      "[nltk_data]     C:\\Users\\abuinoschi\\AppData\\Roaming\\nltk_data...\n",
      "[nltk_data]   Package wordnet is already up-to-date!\n"
     ]
    }
   ],
   "source": [
    "import nltk\n",
    "nltk.download('wordnet')\n",
    "from nltk.corpus import wordnet as wn\n",
    "\n",
    "import random\n",
    "\n",
    "import numpy as np"
   ]
  },
  {
   "cell_type": "markdown",
   "id": "9bccc64b-04a7-4efe-a8de-8077039d2589",
   "metadata": {},
   "source": [
    "## Collect words from a given domain."
   ]
  },
  {
   "cell_type": "code",
   "execution_count": 2,
   "id": "469d648b-d8e0-4ef9-aede-1089d42145d9",
   "metadata": {},
   "outputs": [
    {
     "name": "stdin",
     "output_type": "stream",
     "text": [
      "Choose a domain for the crossword:  science\n"
     ]
    },
    {
     "name": "stdout",
     "output_type": "stream",
     "text": [
      "You chose domain science.\n"
     ]
    }
   ],
   "source": [
    "domain_choice = input(\"Choose a domain for the crossword: \")\n",
    "print('You chose domain {0}.'.format(domain_choice))\n",
    "domain_choice = domain_choice.lower()"
   ]
  },
  {
   "cell_type": "code",
   "execution_count": 3,
   "id": "50a3bcd7-86dc-4998-90c9-ac9559338aad",
   "metadata": {},
   "outputs": [],
   "source": [
    "def get_hyponyms(synset):\n",
    "    hyponyms = set()\n",
    "    for hyponym in synset.hyponyms():\n",
    "        hyponyms |= set(get_hyponyms(hyponym))\n",
    "    return hyponyms | set(synset.hyponyms())"
   ]
  },
  {
   "cell_type": "code",
   "execution_count": 4,
   "id": "3c766f8d-8ce8-4346-81a4-de5973d1350f",
   "metadata": {
    "scrolled": true,
    "tags": []
   },
   "outputs": [
    {
     "name": "stdout",
     "output_type": "stream",
     "text": [
      "{'psephology': Synset('psephology.n.01'), 'derivational morphology': Synset('derivational_morphology.n.01'), 'selenology': Synset('selenology.n.01'), 'electrostatics': Synset('electrostatics.n.01'), 'pteridology': Synset('pteridology.n.01'), 'climatology': Synset('climatology.n.01'), 'regional anatomy': Synset('regional_anatomy.n.01'), 'vertebrate paleontology': Synset('vertebrate_paleontology.n.01'), 'catoptrics': Synset('catoptrics.n.01'), 'macrobiotics': Synset('macrobiotics.n.01'), 'botany': Synset('botany.n.02'), 'histology': Synset('histology.n.01'), 'virology': Synset('virology.n.01'), 'trigonometry': Synset('trigonometry.n.01'), 'paleoclimatology': Synset('paleoclimatology.n.01'), 'cybernetics': Synset('cybernetics.n.01'), 'topology': Synset('topology.n.01'), 'morphology': Synset('morphology.n.04'), 'agrobiology': Synset('agrobiology.n.01'), 'egyptology': Synset('egyptology.n.01'), 'quantum field theory': Synset('quantum_field_theory.n.01'), 'herpetology': Synset('herpetology.n.01'), 'genetics': Synset('genetics.n.01'), 'dentistry': Synset('dentistry.n.01'), 'harmonics': Synset('harmonics.n.01'), 'hemodynamics': Synset('hemodynamics.n.01'), 'ichthyology': Synset('ichthyology.n.01'), 'paleobiology': Synset('paleobiology.n.01'), 'phrenology': Synset('phrenology.n.01'), 'cytology': Synset('cytology.n.01'), 'arithmetic': Synset('arithmetic.n.01'), 'pharmacokinetics': Synset('pharmacokinetics.n.01'), 'alienism': Synset('alienism.n.01'), 'enzymology': Synset('enzymology.n.01'), 'metrology': Synset('metrology.n.01'), 'structural genomics': Synset('structural_genomics.n.01'), 'galois theory': Synset('galois_theory.n.01'), 'pomology': Synset('pomology.n.01'), 'econometrics': Synset('econometrics.n.01'), 'immunochemistry': Synset('immunochemistry.n.01'), 'physiology': Synset('physiology.n.01'), 'metamathematics': Synset('metamathematics.n.01'), 'celestial mechanics': Synset('celestial_mechanics.n.01'), 'paleobotany': Synset('paleobotany.n.01'), 'agrology': Synset('agrology.n.01'), 'astrodynamics': Synset('astrodynamics.n.01'), 'anthropology': Synset('anthropology.n.01'), 'surgery': Synset('surgery.n.01'), 'cryogenics': Synset('cryogenics.n.01'), 'organic chemistry': Synset('organic_chemistry.n.01'), 'quantum chromodynamics': Synset('quantum_chromodynamics.n.01'), 'systematics': Synset('systematics.n.01'), 'set theory': Synset('set_theory.n.01'), 'periodontics': Synset('periodontics.n.01'), 'traumatology': Synset('traumatology.n.01'), 'tectonics': Synset('tectonics.n.02'), 'holography': Synset('holography.n.01'), 'economic geography': Synset('economic_geography.n.01'), 'femtochemistry': Synset('femtochemistry.n.01'), 'endocrinology': Synset('endocrinology.n.01'), 'psychophysics': Synset('psychophysics.n.01'), 'cladistics': Synset('cladistics.n.01'), 'inflectional morphology': Synset('inflectional_morphology.n.01'), 'statistics': Synset('statistics.n.01'), 'paleodendrology': Synset('paleodendrology.n.01'), 'numerical analysis': Synset('numerical_analysis.n.01'), 'oology': Synset('oology.n.01'), 'dermatoglyphics': Synset('dermatoglyphics.n.01'), 'bioclimatology': Synset('bioclimatology.n.01'), 'applied mathematics': Synset('applied_mathematics.n.01'), 'thermostatics': Synset('thermostatics.n.01'), 'medical science': Synset('medical_science.n.01'), 'biosystematics': Synset('biosystematics.n.01'), 'paleontology': Synset('paleontology.n.01'), 'affine geometry': Synset('affine_geometry.n.01'), 'electromagnetism': Synset('electromagnetism.n.02'), 'orthodontics': Synset('orthodontics.n.01'), 'linear algebra': Synset('linear_algebra.n.01'), 'information science': Synset('information_science.n.01'), 'integral calculus': Synset('integral_calculus.n.01'), 'ethnography': Synset('ethnography.n.01'), 'exodontics': Synset('exodontics.n.01'), 'magnetism': Synset('magnetism.n.02'), 'nephrology': Synset('nephrology.n.01'), 'rhinolaryngology': Synset('rhinolaryngology.n.01'), 'differential psychology': Synset('differential_psychology.n.01'), 'ornithology': Synset('ornithology.n.01'), 'acoustics': Synset('acoustics.n.01'), 'abnormal psychology': Synset('abnormal_psychology.n.01'), 'genetic engineering': Synset('genetic_engineering.n.01'), 'neurology': Synset('neurology.n.01'), 'mammalogy': Synset('mammalogy.n.01'), 'space medicine': Synset('space_medicine.n.01'), 'epigraphy': Synset('epigraphy.n.01'), 'syntax': Synset('syntax.n.03'), 'descriptive linguistics': Synset('descriptive_linguistics.n.01'), 'radiology': Synset('radiology.n.01'), 'social psychology': Synset('social_psychology.n.01'), 'hydrostatics': Synset('hydrostatics.n.01'), 'metallurgy': Synset('metallurgy.n.01'), 'aeromechanics': Synset('aeromechanics.n.01'), 'curvilinear correlation': Synset('curvilinear_correlation.n.01'), 'problem solving': Synset('problem_solving.n.01'), 'paleoethnography': Synset('paleoethnography.n.01'), 'linguistics': Synset('linguistics.n.01'), 'computational linguistics': Synset('computational_linguistics.n.01'), 'chemistry': Synset('chemistry.n.01'), 'solid geometry': Synset('solid_geometry.n.01'), 'ethnology': Synset('ethnology.n.01'), 'cognitive neuroscience': Synset('cognitive_neuroscience.n.01'), 'group dynamics': Synset('group_dynamics.n.01'), 'functional anatomy': Synset('functional_anatomy.n.01'), 'neurophysiology': Synset('neurophysiology.n.01'), 'fluid mechanics': Synset('fluid_mechanics.n.01'), 'pediatrics': Synset('pediatrics.n.01'), 'orthopedics': Synset('orthopedics.n.01'), 'assyriology': Synset('assyriology.n.01'), 'natural language processing': Synset('natural_language_processing.n.01'), 'quantum physics': Synset('quantum_physics.n.01'), 'politics': Synset('politics.n.02'), 'freudian psychology': Synset('freudian_psychology.n.01'), 'fractal geometry': Synset('fractal_geometry.n.01'), 'paleoecology': Synset('paleoecology.n.01'), 'paleogeology': Synset('paleogeology.n.01'), 'teratology': Synset('teratology.n.01'), 'silviculture': Synset('silviculture.n.01'), 'biophysics': Synset('biophysics.n.01'), 'biology': Synset('biology.n.01'), 'otology': Synset('otology.n.01'), 'cosmography': Synset('cosmography.n.01'), 'exobiology': Synset('exobiology.n.01'), 'generative grammar': Synset('generative_grammar.n.01'), 'aeromedicine': Synset('aeromedicine.n.01'), 'life science': Synset('life_science.n.01'), 'correlation': Synset('correlation.n.03'), 'psychopharmacology': Synset('psychopharmacology.n.01'), 'speleology': Synset('speleology.n.01'), 'topography': Synset('topography.n.02'), 'paleoanthropology': Synset('paleoanthropology.n.01'), 'nuclear medicine': Synset('nuclear_medicine.n.01'), 'radiobiology': Synset('radiobiology.n.01'), 'mycology': Synset('mycology.n.01'), 'microscopic anatomy': Synset('microscopic_anatomy.n.01'), 'serology': Synset('serology.n.01'), 'developmental psychology': Synset('developmental_psychology.n.01'), 'vector algebra': Synset('vector_algebra.n.01'), 'pure mathematics': Synset('pure_mathematics.n.01'), 'cognitive science': Synset('cognitive_science.n.01'), 'geodesy': Synset('geodesy.n.01'), 'biotechnology': Synset('biotechnology.n.01'), 'psycholinguistics': Synset('psycholinguistics.n.01'), 'craniology': Synset('craniology.n.01'), 'pharmacogenetics': Synset('pharmacogenetics.n.01'), 'neurolinguistics': Synset('neurolinguistics.n.01'), 'ballistics': Synset('ballistics.n.02'), 'sociology': Synset('sociology.n.01'), 'gynecology': Synset('gynecology.n.01'), 'behaviorism': Synset('behaviorism.n.01'), 'spherical trigonometry': Synset('spherical_trigonometry.n.01'), 'psychiatry': Synset('psychiatry.n.01'), 'urology': Synset('urology.n.01'), 'statics': Synset('statics.n.01'), 'nutrition': Synset('nutrition.n.03'), 'veterinary medicine': Synset('veterinary_medicine.n.01'), 'psychometry': Synset('psychometry.n.01'), 'dental anatomy': Synset('dental_anatomy.n.01'), 'compound morphology': Synset('compound_morphology.n.01'), 'geology': Synset('geology.n.01'), 'thoracic medicine': Synset('thoracic_medicine.n.01'), 'algebra': Synset('algebra.n.01'), 'zymology': Synset('zymology.n.01'), 'probability theory': Synset('probability_theory.n.01'), 'ophthalmology': Synset('ophthalmology.n.01'), 'pneumatics': Synset('pneumatics.n.01'), 'jungian psychology': Synset('jungian_psychology.n.01'), 'spherical geometry': Synset('spherical_geometry.n.01'), 'dysgenics': Synset('dysgenics.n.01'), 'cryptanalysis': Synset('cryptanalysis.n.01'), 'strategics': Synset('strategics.n.01'), 'social anthropology': Synset('social_anthropology.n.01'), 'geography': Synset('geography.n.01'), 'electron optics': Synset('electron_optics.n.01'), 'prosthetics': Synset('prosthetics.n.01'), 'psychodynamics': Synset('psychodynamics.n.02'), 'physics': Synset('physics.n.02'), 'dialect geography': Synset('dialect_geography.n.01'), 'lexical semantics': Synset('lexical_semantics.n.01'), 'calculus of variations': Synset('calculus_of_variations.n.01'), 'hypsography': Synset('hypsography.n.01'), 'crystallography': Synset('crystallography.n.01'), 'immunopathology': Synset('immunopathology.n.01'), 'immunology': Synset('immunology.n.01'), 'formal semantics': Synset('formal_semantics.n.01'), 'non-euclidean geometry': Synset('non-euclidean_geometry.n.01'), 'psychology': Synset('psychology.n.01'), 'oncology': Synset('oncology.n.01'), 'first-order correlation': Synset('first-order_correlation.n.01'), 'electronics': Synset('electronics.n.01'), 'rheumatology': Synset('rheumatology.n.01'), 'protohistory': Synset('protohistory.n.01'), 'hydrography': Synset('hydrography.n.01'), 'archeology': Synset('archeology.n.01'), 'wave mechanics': Synset('wave_mechanics.n.01'), 'rheology': Synset('rheology.n.01'), 'cognitive psychology': Synset('cognitive_psychology.n.01'), 'paleomammalogy': Synset('paleomammalogy.n.01'), 'oceanography': Synset('oceanography.n.01'), 'agronomy': Synset('agronomy.n.01'), 'dietetics': Synset('dietetics.n.01'), 'quadratics': Synset('quadratics.n.01'), 'proteomics': Synset('proteomics.n.01'), 'algorism': Synset('algorism.n.02'), 'entomology': Synset('entomology.n.01'), 'posology': Synset('posology.n.01'), 'orology': Synset('orology.n.01'), 'radio astronomy': Synset('radio_astronomy.n.01'), 'hematology': Synset('hematology.n.01'), 'powder metallurgy': Synset('powder_metallurgy.n.01'), 'geophysics': Synset('geophysics.n.01'), 'ethology': Synset('ethology.n.01'), 'social science': Synset('social_science.n.01'), 'physical chemistry': Synset('physical_chemistry.n.01'), 'hygiene': Synset('hygiene.n.02'), 'physiological psychology': Synset('physiological_psychology.n.01'), 'grammar': Synset('grammar.n.01'), 'microbiology': Synset('microbiology.n.01'), 'forestry': Synset('forestry.n.01'), 'developmental anatomy': Synset('developmental_anatomy.n.01'), 'group theory': Synset('group_theory.n.01'), 'memory': Synset('memory.n.05'), 'sociometry': Synset('sociometry.n.01'), 'proxemics': Synset('proxemics.n.01'), 'thanatology': Synset('thanatology.n.01'), 'mythology': Synset('mythology.n.02'), 'geometry': Synset('geometry.n.01'), 'internal medicine': Synset('internal_medicine.n.01'), 'biochemistry': Synset('biochemistry.n.01'), 'synchronic linguistics': Synset('synchronic_linguistics.n.01'), 'ecology': Synset('ecology.n.02'), 'statistical mechanics': Synset('statistical_mechanics.n.01'), 'clinical anatomy': Synset('clinical_anatomy.n.01'), 'microeconomics': Synset('microeconomics.n.01'), 'historical linguistics': Synset('historical_linguistics.n.01'), 'inorganic chemistry': Synset('inorganic_chemistry.n.01'), 'finance': Synset('finance.n.02'), 'osteology': Synset('osteology.n.01'), 'cryobiology': Synset('cryobiology.n.01'), 'protoarcheology': Synset('protoarcheology.n.01'), 'astrophysics': Synset('astrophysics.n.01'), 'cryonics': Synset('cryonics.n.01'), 'mechanics': Synset('mechanics.n.01'), 'petroleum geology': Synset('petroleum_geology.n.01'), 'pathology': Synset('pathology.n.01'), 'perinatology': Synset('perinatology.n.01'), 'stratigraphy': Synset('stratigraphy.n.01'), 'prescriptive linguistics': Synset('prescriptive_linguistics.n.01'), 'descriptive grammar': Synset('descriptive_grammar.n.01'), 'neuropsychiatry': Synset('neuropsychiatry.n.01'), 'dynamics': Synset('dynamics.n.01'), 'sociolinguistics': Synset('sociolinguistics.n.01'), 'home economics': Synset('home_economics.n.01'), 'matrix algebra': Synset('matrix_algebra.n.01'), 'geopolitics': Synset('geopolitics.n.01'), 'sumerology': Synset('sumerology.n.01'), 'mineralogy': Synset('mineralogy.n.01'), 'audiology': Synset('audiology.n.01'), 'mathematics': Synset('mathematics.n.01'), 'sports medicine': Synset('sports_medicine.n.01'), 'hyperbolic geometry': Synset('hyperbolic_geometry.n.01'), 'spurious correlation': Synset('spurious_correlation.n.01'), 'lexicostatistics': Synset('lexicostatistics.n.01'), 'aerology': Synset('aerology.n.01'), 'surface chemistry': Synset('surface_chemistry.n.01'), 'sociobiology': Synset('sociobiology.n.01'), 'primatology': Synset('primatology.n.01'), 'endodontics': Synset('endodontics.n.01'), 'physical anthropology': Synset('physical_anthropology.n.01'), 'economics': Synset('economics.n.01'), 'prescriptive grammar': Synset('prescriptive_grammar.n.01'), 'natural history': Synset('natural_history.n.01'), 'demography': Synset('demography.n.01'), 'experimental psychology': Synset('experimental_psychology.n.01'), 'dermatology': Synset('dermatology.n.01'), 'paleopathology': Synset('paleopathology.n.01'), 'projective geometry': Synset('projective_geometry.n.01'), 'pharmacology': Synset('pharmacology.n.01'), 'dental surgery': Synset('dental_surgery.n.01'), 'angiology': Synset('angiology.n.01'), 'toxicology': Synset('toxicology.n.01'), 'cardiology': Synset('cardiology.n.01'), 'cosmology': Synset('cosmology.n.02'), 'geostrategy': Synset('geostrategy.n.01'), 'craniometry': Synset('craniometry.n.01'), 'gastroenterology': Synset('gastroenterology.n.01'), 'solid-state physics': Synset('solid-state_physics.n.01'), 'physical geography': Synset('physical_geography.n.01'), 'paleozoology': Synset('paleozoology.n.01'), 'astronomy': Synset('astronomy.n.01'), 'protozoology': Synset('protozoology.n.01'), 'kinesiology': Synset('kinesiology.n.01'), 'proctology': Synset('proctology.n.01'), 'thermionics': Synset('thermionics.n.01'), 'electrochemistry': Synset('electrochemistry.n.01'), 'epidemiology': Synset('epidemiology.n.01'), 'paleography': Synset('paleography.n.01'), 'mining geology': Synset('mining_geology.n.01'), 'undercut': Synset('undercut.n.03'), 'myology': Synset('myology.n.01'), 'pharmacy': Synset('pharmacy.n.01'), 'hydrodynamics': Synset('hydrodynamics.n.01'), 'comparative psychology': Synset('comparative_psychology.n.01'), 'quantum mechanics': Synset('quantum_mechanics.n.01'), 'elementary geometry': Synset('elementary_geometry.n.01'), 'lepidopterology': Synset('lepidopterology.n.01'), 'cosmetic dentistry': Synset('cosmetic_dentistry.n.01'), 'biometrics': Synset('biometrics.n.01'), 'obstetrics': Synset('obstetrics.n.01'), 'phycology': Synset('phycology.n.01'), 'particle physics': Synset('particle_physics.n.01'), 'marine archeology': Synset('marine_archeology.n.01'), 'structuralism': Synset('structuralism.n.01'), 'triangulation': Synset('triangulation.n.01'), 'meteorology': Synset('meteorology.n.02'), 'gross anatomy': Synset('gross_anatomy.n.01'), 'nosology': Synset('nosology.n.01'), 'nuclear physics': Synset('nuclear_physics.n.01'), 'plasma physics': Synset('plasma_physics.n.01'), 'analysis': Synset('analysis.n.05'), 'semantics': Synset('semantics.n.01'), 'biomedicine': Synset('biomedicine.n.02'), 'malacology': Synset('malacology.n.01'), 'classical mechanics': Synset('classical_mechanics.n.01'), 'fourier analysis': Synset('fourier_analysis.n.01'), 'medicine': Synset('medicine.n.01'), 'cognitive semantics': Synset('cognitive_semantics.n.01'), 'astrometry': Synset('astrometry.n.01'), 'volcanology': Synset('volcanology.n.01'), 'orthoepy': Synset('orthoepy.n.02'), 'clinical psychology': Synset('clinical_psychology.n.01'), 'avionics': Synset('avionics.n.01'), 'phonetics': Synset('phonetics.n.01'), 'realpolitik': Synset('realpolitik.n.01'), 'neurobiology': Synset('neurobiology.n.01'), 'analytic geometry': Synset('analytic_geometry.n.01'), 'negative correlation': Synset('negative_correlation.n.01'), 'zoology': Synset('zoology.n.02'), 'thermodynamics': Synset('thermodynamics.n.01'), 'seismology': Synset('seismology.n.01'), 'calculus': Synset('calculus.n.03'), 'phonology': Synset('phonology.n.01'), 'comparative anatomy': Synset('comparative_anatomy.n.01'), 'penology': Synset('penology.n.01'), 'biomedical science': Synset('biomedical_science.n.01'), 'anesthesiology': Synset('anesthesiology.n.01'), 'brain science': Synset('brain_science.n.01'), 'podiatry': Synset('podiatry.n.01'), 'quantum electrodynamics': Synset('quantum_electrodynamics.n.01'), 'reflexology': Synset('reflexology.n.01'), 'conchology': Synset('conchology.n.01'), 'partial correlation': Synset('partial_correlation.n.01'), 'elliptic geometry': Synset('elliptic_geometry.n.01'), 'solar physics': Synset('solar_physics.n.01'), 'earth science': Synset('earth_science.n.01'), 'criminology': Synset('criminology.n.01'), 'machine translation': Synset('machine_translation.n.01'), 'differential calculus': Synset('differential_calculus.n.01'), 'emergency medicine': Synset('emergency_medicine.n.01'), 'applied psychology': Synset('applied_psychology.n.01'), 'etymology': Synset('etymology.n.02'), 'economic geology': Synset('economic_geology.n.01'), 'positive correlation': Synset('positive_correlation.n.01'), 'deixis': Synset('deixis.n.01'), 'phytochemistry': Synset('phytochemistry.n.01'), 'micropaleontology': Synset('micropaleontology.n.01'), 'bacteriology': Synset('bacteriology.n.01'), 'neuroanatomy': Synset('neuroanatomy.n.01'), 'architectonics': Synset('architectonics.n.01'), 'kinematics': Synset('kinematics.n.01'), 'hydrology': Synset('hydrology.n.01'), 'anatomy': Synset('anatomy.n.01'), 'embryology': Synset('embryology.n.01'), 'macroeconomics': Synset('macroeconomics.n.01'), 'forensic medicine': Synset('forensic_medicine.n.01'), 'pragmatics': Synset('pragmatics.n.01'), 'garbology': Synset('garbology.n.01'), 'limnology': Synset('limnology.n.01'), 'neonatology': Synset('neonatology.n.01'), 'magnetohydrodynamics': Synset('magnetohydrodynamics.n.01'), 'thermochemistry': Synset('thermochemistry.n.01'), 'molecular biology': Synset('molecular_biology.n.01'), 'geriatrics': Synset('geriatrics.n.01'), 'fetology': Synset('fetology.n.01'), 'paleornithology': Synset('paleornithology.n.01'), 'euthenics': Synset('euthenics.n.01'), 'bioremediation': Synset('bioremediation.n.01'), 'aeronautics': Synset('aeronautics.n.01'), 'radiochemistry': Synset('radiochemistry.n.01'), 'petrology': Synset('petrology.n.01'), 'neuroscience': Synset('neuroscience.n.01'), 'genomics': Synset('genomics.n.01'), 'biogeography': Synset('biogeography.n.01'), 'psychotherapy': Synset('psychotherapy.n.01'), 'decomposition': Synset('decomposition.n.01'), 'morphophonemics': Synset('morphophonemics.n.01'), 'tropical medicine': Synset('tropical_medicine.n.01'), 'nephology': Synset('nephology.n.01'), 'eugenics': Synset('eugenics.n.01'), 'paleology': Synset('paleology.n.01'), 'geochemistry': Synset('geochemistry.n.01'), 'supply-side economics': Synset('supply-side_economics.n.01'), 'plane geometry': Synset('plane_geometry.n.01'), 'cytogenetics': Synset('cytogenetics.n.01'), 'optics': Synset('optics.n.01'), 'allergology': Synset('allergology.n.01'), 'ritualism': Synset('ritualism.n.01'), 'civics': Synset('civics.n.01'), 'taxonomy': Synset('taxonomy.n.02'), 'prosthodontics': Synset('prosthodontics.n.01'), 'photochemistry': Synset('photochemistry.n.01'), 'paletiology': Synset('paletiology.n.01'), 'nonparametric statistics': Synset('nonparametric_statistics.n.01'), 'molecular genetics': Synset('molecular_genetics.n.01'), 'paleogeography': Synset('paleogeography.n.01'), 'therapeutics': Synset('therapeutics.n.01'), 'natural science': Synset('natural_science.n.01'), 'linear programming': Synset('linear_programming.n.01'), 'microelectronics': Synset('microelectronics.n.01'), 'functional genomics': Synset('functional_genomics.n.01')}\n"
     ]
    }
   ],
   "source": [
    "domain_choice_synset = wn.synset(domain_choice+'.n.1')\n",
    "synset_words = list(get_hyponyms(domain_choice_synset))\n",
    "\n",
    "synset_words_dict = {}\n",
    "for synset in synset_words:\n",
    "    name = synset.name().split('.')[0].replace('_', ' ')\n",
    "    synset_words_dict[name] = synset\n",
    "    \n",
    "print(synset_words_dict)"
   ]
  },
  {
   "cell_type": "code",
   "execution_count": 5,
   "id": "4b23c251-a49b-4b1c-a337-b00746427ab9",
   "metadata": {},
   "outputs": [
    {
     "name": "stdout",
     "output_type": "stream",
     "text": [
      "molecular biology\n",
      "The branch of biology that studies the structure and activity of macromolecules essential to life (and especially with their genetic role).\n"
     ]
    }
   ],
   "source": [
    "column_word = random.choice(list(synset_words_dict.keys()))\n",
    "column_synset = synset_words_dict[column_word]\n",
    "while len(column_word) < 12:\n",
    "    column_word = random.choice(list(synset_words_dict.keys()))\n",
    "    column_synset = synset_words_dict[column_word]\n",
    "    \n",
    "column_clue = column_synset.definition()[0].upper() + column_synset.definition()[1:] + '.'\n",
    "\n",
    "print(column_word)\n",
    "print(column_clue)"
   ]
  },
  {
   "cell_type": "markdown",
   "id": "f85e42f7-64d9-482a-aca1-ed43c9bd575e",
   "metadata": {},
   "source": [
    "## By default the clue is set to be the definition. If there are synonyms and antonyms found, then use them as clues."
   ]
  },
  {
   "cell_type": "code",
   "execution_count": 6,
   "id": "f939b330-7c03-4f71-acc1-79a7aef6de42",
   "metadata": {},
   "outputs": [],
   "source": [
    "def choose_word_from_hyponyms(synset_dict: dict, character: str, type='definition'):\n",
    "    synonym = ''\n",
    "    antonym = ''\n",
    "    for word in synset_dict.keys():\n",
    "        if character in word:\n",
    "            # By default, the clue is the definition\n",
    "            clue = synset_dict[word].definition()[0].upper() + synset_dict[word].definition()[1:] + '.'\n",
    "            # Search for synonym\n",
    "            synonyms_syn = synset_dict[word].lemmas()\n",
    "            for lemma in synonyms_syn:\n",
    "                if lemma.name().lower().replace('_', ' ') != word:\n",
    "                        synonym = lemma.name().replace('_', ' ')\n",
    "            # Search for antonym\n",
    "            synonyms_syn = synset_dict[word].lemmas()\n",
    "            for lemma in synonyms_syn:\n",
    "                if lemma.antonyms():\n",
    "                    if lemma.antonyms()[0].name().lower().replace('_', ' ') != word:\n",
    "                        antonym = lemma.antonyms()[0].name().replace('_', ' ')\n",
    "            synset_dict.pop(word)\n",
    "            word = word.replace(character, character.upper())\n",
    "            if antonym != '':\n",
    "                clue = 'Give an antonym for {0}.'.format(antonym)\n",
    "            if synonym != '':\n",
    "                clue = 'Find a synonym for {0}.'.format(synonym)\n",
    "            word = word.lower()\n",
    "            return synset_dict, word, clue   "
   ]
  },
  {
   "cell_type": "markdown",
   "id": "4c80905f-55c3-4c3e-8204-661042b9d635",
   "metadata": {},
   "source": [
    "## Generate the crosswords puzzle"
   ]
  },
  {
   "cell_type": "code",
   "execution_count": 7,
   "id": "373ef1d4-dcd3-4259-8b52-c4d42baaff4a",
   "metadata": {},
   "outputs": [
    {
     "name": "stdout",
     "output_type": "stream",
     "text": [
      "16 18\n",
      "\n",
      "The words solutions and the clues are:\n",
      "['derivational morphology', 'psephology', 'selenology', 'electrostatics', 'climatology', 'quantum field theory', 'pteridology', 'regional anatomy', 'vertebrate paleontology', 'structural genomics', 'macrobiotics', 'catoptrics', 'botany', 'histology', 'virology', 'trigonometry', 'paleoclimatology']\n",
      "['The part of grammar that deals with the derivations of words.', 'The branch of sociology that studies election trends (as by opinion polls).', 'The branch of astronomy that deals with the moon.', 'The branch of physics that deals with static electricity.', 'Meteorology of climates and their phenomena.', 'The branch of quantum physics that is concerned with the theory of fields; it was motivated by the question of how an atom radiates light as its electrons jump from excited states.', 'The branch of botany that studies ferns.', 'Find a synonym for topology.', 'The paleontology of vertebrates.', 'The branch of genomics that determines the three-dimensional structures of proteins.', 'The theory of promoting health and longevity by means of diet (especially whole beans and grains).', 'Branch of optics dealing with formation of images by mirrors.', 'Find a synonym for phytology.', 'The branch of biology that studies the microscopic structure of animal or plant tissues.', 'The branch of medical science that studies viruses and viral diseases.', 'Find a synonym for trig.', 'Find a synonym for palaeoclimatology.']\n"
     ]
    }
   ],
   "source": [
    "indexes_to_fill = list(range(0, len(column_word)))\n",
    "words = []\n",
    "clues = []\n",
    "left_size = 0\n",
    "right_size = 0\n",
    "\n",
    "for number in range(0, len(column_word)):\n",
    "    synset_words_dict, word, clue = choose_word_from_hyponyms(synset_words_dict, column_word[number])\n",
    "    index_meeting_column = word.lower().find(column_word[number])\n",
    "    if left_size < index_meeting_column + 1:\n",
    "        left_size = index_meeting_column + 1\n",
    "    if right_size < len(column_word) - index_meeting_column + 1:\n",
    "        right_size = len(column_word) - index_meeting_column + 1\n",
    "    words.append(word.lower())\n",
    "    clues.append(clue)\n",
    "    \n",
    "# These are important for the size of the grid\n",
    "print(left_size, right_size)\n",
    "\n",
    "print('\\nThe words solutions and the clues are:')\n",
    "print(words)\n",
    "print(clues)"
   ]
  },
  {
   "cell_type": "code",
   "execution_count": 8,
   "id": "1fcbd8a7-e4fd-4983-8e2c-b077a708a887",
   "metadata": {},
   "outputs": [
    {
     "name": "stdout",
     "output_type": "stream",
     "text": [
      "                                                       0.\n",
      "             1.|D||E||R||I||V||A||T||I||O||N||A||L|| ||M||O||R||P||H||O||L||O||G||Y|\n",
      "                                     2.|P||S||E||P||H||O||L||O||G||Y|\n",
      "                                              3.|S||E||L||E||N||O||L||O||G||Y|\n",
      "                                                    4.|E||L||E||C||T||R||O||S||T||A||T||I||C||S|\n",
      "                                                    5.|C||L||I||M||A||T||O||L||O||G||Y|\n",
      "                                                 6.|Q||U||A||N||T||U||M|| ||F||I||E||L||D|| ||T||H||E||O||R||Y|\n",
      "                               7.|P||T||E||R||I||D||O||L||O||G||Y|\n",
      "                                  8.|R||E||G||I||O||N||A||L|| ||A||N||A||T||O||M||Y|\n",
      "                                              9.|V||E||R||T||E||B||R||A||T||E|| ||P||A||L||E||O||N||T||O||L||O||G||Y|\n",
      "                      10.|S||T||R||U||C||T||U||R||A||L|| ||G||E||N||O||M||I||C||S|\n",
      "                                    11.|M||A||C||R||O||B||I||O||T||I||C||S|\n",
      "                              12.|C||A||T||O||P||T||R||I||C||S|\n",
      "                                                13.|B||O||T||A||N||Y|\n",
      "                                    14.|H||I||S||T||O||L||O||G||Y|\n",
      "                                          15.|V||I||R||O||L||O||G||Y|\n",
      "                                          16.|T||R||I||G||O||N||O||M||E||T||R||Y|\n",
      "      17.|P||A||L||E||O||C||L||I||M||A||T||O||L||O||G||Y|\n",
      "\n",
      "\n",
      "\n",
      "Clues:\n",
      "0. The branch of biology that studies the structure and activity of macromolecules essential to life (and especially with their genetic role).\n",
      "1. The part of grammar that deals with the derivations of words.\n",
      "2. The branch of sociology that studies election trends (as by opinion polls).\n",
      "3. The branch of astronomy that deals with the moon.\n",
      "4. The branch of physics that deals with static electricity.\n",
      "5. Meteorology of climates and their phenomena.\n",
      "6. The branch of quantum physics that is concerned with the theory of fields; it was motivated by the question of how an atom radiates light as its electrons jump from excited states.\n",
      "7. The branch of botany that studies ferns.\n",
      "8. Find a synonym for topology.\n",
      "9. The paleontology of vertebrates.\n",
      "10. The branch of genomics that determines the three-dimensional structures of proteins.\n",
      "11. The theory of promoting health and longevity by means of diet (especially whole beans and grains).\n",
      "12. Branch of optics dealing with formation of images by mirrors.\n",
      "13. Find a synonym for phytology.\n",
      "14. The branch of biology that studies the microscopic structure of animal or plant tissues.\n",
      "15. The branch of medical science that studies viruses and viral diseases.\n",
      "16. Find a synonym for trig.\n",
      "17. Find a synonym for palaeoclimatology.\n"
     ]
    }
   ],
   "source": [
    "print(\"   \" * (left_size + 2) + ' 0.')\n",
    "for index in range(0, len(words)):\n",
    "    character = column_word[index]\n",
    "    word = words[index].lower()\n",
    "    meeting_center_index = word.find(character)\n",
    "    if index < 10:\n",
    "        row_representation = \"   \" * (left_size - meeting_center_index + 1) + ' ' + str(index + 1) + '.'\n",
    "    else: \n",
    "        row_representation = \"   \" * (left_size - meeting_center_index + 1) + str(index + 1) + '.'\n",
    "    for letter in word.upper():\n",
    "        row_representation +='|{0}|'.format(letter)\n",
    "    print(row_representation)\n",
    "    \n",
    "print('\\n\\n')\n",
    "print('Clues:')\n",
    "print('0. ' + column_clue)\n",
    "for index in range (1, len(clues)):\n",
    "    print('{0}. {1}'.format(str(index), clues[index-1]))\n",
    "print('{0}. {1}'.format(len(clues), clues[len(clues)-1]))"
   ]
  },
  {
   "cell_type": "code",
   "execution_count": 11,
   "id": "bbefedb5-1989-4eda-a654-4051f12ad258",
   "metadata": {},
   "outputs": [
    {
     "name": "stdout",
     "output_type": "stream",
     "text": [
      "                                                       0.\n",
      "             1.| || || || || || || || || || || || || || || || || || || || || || || |\n",
      "                                     2.| || || || || || || || || || |\n",
      "                                              3.| || || || || || || || || || |\n",
      "                                                    4.| || || || || || || || || || || || || || |\n",
      "                                                    5.| || || || || || || || || || || |\n",
      "                                                 6.| || || || || || || || || || || || || || || || || || || || |\n",
      "                               7.| || || || || || || || || || || |\n",
      "                                  8.| || || || || || || || || || || || || || || || |\n",
      "                                              9.| || || || || || || || || || || || || || || || || || || || || || || |\n",
      "                      10.| || || || || || || || || || || || || || || || || || || |\n",
      "                                    11.| || || || || || || || || || || || |\n",
      "                              12.| || || || || || || || || || |\n",
      "                                                13.| || || || || || |\n",
      "                                    14.| || || || || || || || || |\n",
      "                                          15.| || || || || || || || |\n",
      "                                          16.| || || || || || || || || || || || |\n",
      "      17.| || || || || || || || || || || || || || || || |\n",
      "\n",
      "\n",
      "\n",
      "Clues:\n",
      "0. The branch of biology that studies the structure and activity of macromolecules essential to life (and especially with their genetic role).\n"
     ]
    },
    {
     "name": "stdin",
     "output_type": "stream",
     "text": [
      "1. The part of grammar that deals with the derivations of words. derivational morphology\n",
      "2. The branch of sociology that studies election trends (as by opinion polls). psephology\n",
      "3. The branch of astronomy that deals with the moon. selenology\n",
      "4. The branch of physics that deals with static electricity. electrostatics\n",
      "5. Meteorology of climates and their phenomena. climatology\n",
      "6. The branch of quantum physics that is concerned with the theory of fields; it was motivated by the question of how an atom radiates light as its electrons jump from excited states. quantum field theory\n",
      "7. The branch of botany that studies ferns. pteridology\n",
      "8. Find a synonym for topology. regional anatomy\n",
      "9. The paleontology of vertebrates. vertebrate paleontology\n",
      "10. The branch of genomics that determines the three-dimensional structures of proteins. structural genomics\n",
      "11. The theory of promoting health and longevity by means of diet (especially whole beans and grains). macrobiotics\n",
      "12. Branch of optics dealing with formation of images by mirrors. catoptrics\n",
      "13. Find a synonym for phytology. botany\n",
      "14. The branch of biology that studies the microscopic structure of animal or plant tissues. histology\n",
      "15. The branch of medical science that studies viruses and viral diseases. virology\n",
      "16. Find a synonym for trig. trigonometry\n",
      "17. Find a synonym for palaeoclimatology. paleoclimatology\n"
     ]
    },
    {
     "name": "stdout",
     "output_type": "stream",
     "text": [
      "\n",
      "\n",
      "\n",
      "                                                       0.\n",
      "             1|D||E||R||I||V||A||T||I||O||N||A||L|| ||M||O||R||P||H||O||L||O||G||Y|\n",
      "                                     2|P||S||E||P||H||O||L||O||G||Y|\n",
      "                                              3|S||E||L||E||N||O||L||O||G||Y|\n",
      "                                                    4|E||L||E||C||T||R||O||S||T||A||T||I||C||S|\n",
      "                                                    5|C||L||I||M||A||T||O||L||O||G||Y|\n",
      "                                                 6|Q||U||A||N||T||U||M|| ||F||I||E||L||D|| ||T||H||E||O||R||Y|\n",
      "                               7|P||T||E||R||I||D||O||L||O||G||Y|\n",
      "                                  8|R||E||G||I||O||N||A||L|| ||A||N||A||T||O||M||Y|\n",
      "                                              9|V||E||R||T||E||B||R||A||T||E|| ||P||A||L||E||O||N||T||O||L||O||G||Y|\n",
      "                      10|S||T||R||U||C||T||U||R||A||L|| ||G||E||N||O||M||I||C||S|\n",
      "                                    11|M||A||C||R||O||B||I||O||T||I||C||S|\n",
      "                              12|C||A||T||O||P||T||R||I||C||S|\n",
      "                                                13|B||O||T||A||N||Y|\n",
      "                                    14|H||I||S||T||O||L||O||G||Y|\n",
      "                                          15|V||I||R||O||L||O||G||Y|\n",
      "                                          16|T||R||I||G||O||N||O||M||E||T||R||Y|\n",
      "      17|P||A||L||E||O||C||L||I||M||A||T||O||L||O||G||Y|\n"
     ]
    }
   ],
   "source": [
    "solved_crossword_list = []\n",
    "graphical_crossword_list = []\n",
    "print(\"   \" * (left_size + 2) + ' 0.')\n",
    "for index in range(0, len(words)):\n",
    "    character = column_word[index]\n",
    "    word = words[index].lower()\n",
    "    meeting_center_index = word.find(character)\n",
    "    if index < 10:\n",
    "        row_representation = \"   \" * (left_size - meeting_center_index + 1) + ' ' + str(index + 1) + '.'\n",
    "    else: \n",
    "        row_representation = \"   \" * (left_size - meeting_center_index + 1) + str(index + 1) + '.'\n",
    "    for letter in word.upper():\n",
    "        row_representation +='| |'\n",
    "    print(row_representation)\n",
    "    graphical_crossword_list.append(row_representation)\n",
    "    \n",
    "print('\\n\\n')\n",
    "print('Clues:')\n",
    "\n",
    "print('0. ' + column_clue)\n",
    "for index in range (0, len(clues)):\n",
    "    given_word = input('{0}. {1}'.format(str(index + 1), clues[index]))\n",
    "    if given_word.lower() == words[index].lower():\n",
    "        row_representation = graphical_crossword_list[index].split('.')[0]\n",
    "        for letter in given_word.upper():\n",
    "            row_representation += '|{0}|'.format(letter)\n",
    "        solved_crossword_list.append(row_representation)\n",
    "\n",
    "\n",
    "print('\\n\\n')\n",
    "print(\"   \" * (left_size + 2) + ' 0.')\n",
    "for row in solved_crossword_list:\n",
    "    print(row)"
   ]
  },
  {
   "cell_type": "code",
   "execution_count": null,
   "id": "1967c71d-2927-48fe-a54e-2a3b62be9078",
   "metadata": {},
   "outputs": [],
   "source": []
  }
 ],
 "metadata": {
  "kernelspec": {
   "display_name": "Python 3 (ipykernel)",
   "language": "python",
   "name": "python3"
  },
  "language_info": {
   "codemirror_mode": {
    "name": "ipython",
    "version": 3
   },
   "file_extension": ".py",
   "mimetype": "text/x-python",
   "name": "python",
   "nbconvert_exporter": "python",
   "pygments_lexer": "ipython3",
   "version": "3.7.0"
  }
 },
 "nbformat": 4,
 "nbformat_minor": 5
}
