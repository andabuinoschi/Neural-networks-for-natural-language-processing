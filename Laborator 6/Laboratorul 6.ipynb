{
 "cells": [
  {
   "cell_type": "markdown",
   "id": "4c7d6e0a-8348-4721-84aa-5c71f17d8c95",
   "metadata": {},
   "source": [
    "# Laboratorul 6"
   ]
  },
  {
   "cell_type": "code",
   "execution_count": 1,
   "id": "cf11bbd9-d778-4f77-8e16-aec53d579be8",
   "metadata": {},
   "outputs": [],
   "source": [
    "import os\n",
    "import nltk\n",
    "\n",
    "from sklearn.naive_bayes import GaussianNB\n",
    "from sklearn.feature_extraction.text import CountVectorizer\n",
    "from sklearn.metrics import confusion_matrix, classification_report\n",
    "\n",
    "import pandas as pd\n",
    "import numpy as np"
   ]
  },
  {
   "cell_type": "markdown",
   "id": "4b3385eb-617e-44e9-bba7-a562a6a0d256",
   "metadata": {},
   "source": [
    "## Prepare data"
   ]
  },
  {
   "cell_type": "code",
   "execution_count": 2,
   "id": "dbe80c57-da8c-4ad6-90d9-dd6433db5123",
   "metadata": {},
   "outputs": [],
   "source": [
    "training_reviews = []\n",
    "testing_reviews = []\n",
    "for folder in os.listdir('aclImdb'):\n",
    "    if folder == 'train':\n",
    "        new_folder_path = os.path.join('aclImdb', 'train')\n",
    "        for folder in os.listdir(new_folder_path):\n",
    "            if folder == 'neg':\n",
    "                for file in os.listdir(os.path.join(new_folder_path, 'neg')):\n",
    "                    review_file = open(os.path.join(new_folder_path, 'neg', file), 'r', encoding=\"utf8\")\n",
    "                    training_reviews.append([review_file.read(), -1])\n",
    "            elif folder == 'pos':\n",
    "                for file in os.listdir(os.path.join(new_folder_path, 'pos')):\n",
    "                    review_file = open(os.path.join(new_folder_path, 'pos', file), 'r', encoding=\"utf8\")\n",
    "                    training_reviews.append([review_file.read(), 1])\n",
    "    elif folder == 'test':\n",
    "        new_folder_path = os.path.join('aclImdb', 'test')\n",
    "        for folder in os.listdir(new_folder_path):\n",
    "            if folder == 'neg':\n",
    "                for file in os.listdir(os.path.join(new_folder_path, 'neg')):\n",
    "                    review_file = open(os.path.join(new_folder_path, 'neg', file), 'r', encoding=\"utf8\")\n",
    "                    testing_reviews.append([review_file.read(), -1])\n",
    "            elif folder == 'pos':\n",
    "                for file in os.listdir(os.path.join(new_folder_path, 'pos')):\n",
    "                    review_file = open(os.path.join(new_folder_path, 'pos', file), 'r', encoding=\"utf8\")\n",
    "                    testing_reviews.append([review_file.read(), 1])"
   ]
  },
  {
   "cell_type": "code",
   "execution_count": 3,
   "id": "322c8942-9867-4f3d-8c5e-cdca7abd3c84",
   "metadata": {},
   "outputs": [],
   "source": [
    "training_reviews = pd.DataFrame(training_reviews, columns=['review', 'label'])\n",
    "testing_reviews = pd.DataFrame(testing_reviews, columns=['review', 'label'])"
   ]
  },
  {
   "cell_type": "code",
   "execution_count": 4,
   "id": "190be7cc-aca4-4682-9cbb-3f2fd2359c06",
   "metadata": {},
   "outputs": [
    {
     "data": {
      "text/html": [
       "<div>\n",
       "<style scoped>\n",
       "    .dataframe tbody tr th:only-of-type {\n",
       "        vertical-align: middle;\n",
       "    }\n",
       "\n",
       "    .dataframe tbody tr th {\n",
       "        vertical-align: top;\n",
       "    }\n",
       "\n",
       "    .dataframe thead th {\n",
       "        text-align: right;\n",
       "    }\n",
       "</style>\n",
       "<table border=\"1\" class=\"dataframe\">\n",
       "  <thead>\n",
       "    <tr style=\"text-align: right;\">\n",
       "      <th></th>\n",
       "      <th>review</th>\n",
       "      <th>label</th>\n",
       "    </tr>\n",
       "  </thead>\n",
       "  <tbody>\n",
       "    <tr>\n",
       "      <th>0</th>\n",
       "      <td>Story of a man who has unnatural feelings for ...</td>\n",
       "      <td>-1</td>\n",
       "    </tr>\n",
       "    <tr>\n",
       "      <th>1</th>\n",
       "      <td>Airport '77 starts as a brand new luxury 747 p...</td>\n",
       "      <td>-1</td>\n",
       "    </tr>\n",
       "    <tr>\n",
       "      <th>2</th>\n",
       "      <td>This film lacked something I couldn't put my f...</td>\n",
       "      <td>-1</td>\n",
       "    </tr>\n",
       "    <tr>\n",
       "      <th>3</th>\n",
       "      <td>Sorry everyone,,, I know this is supposed to b...</td>\n",
       "      <td>-1</td>\n",
       "    </tr>\n",
       "    <tr>\n",
       "      <th>4</th>\n",
       "      <td>When I was little my parents took me along to ...</td>\n",
       "      <td>-1</td>\n",
       "    </tr>\n",
       "    <tr>\n",
       "      <th>...</th>\n",
       "      <td>...</td>\n",
       "      <td>...</td>\n",
       "    </tr>\n",
       "    <tr>\n",
       "      <th>24995</th>\n",
       "      <td>Seeing as the vote average was pretty low, and...</td>\n",
       "      <td>1</td>\n",
       "    </tr>\n",
       "    <tr>\n",
       "      <th>24996</th>\n",
       "      <td>The plot had some wretched, unbelievable twist...</td>\n",
       "      <td>1</td>\n",
       "    </tr>\n",
       "    <tr>\n",
       "      <th>24997</th>\n",
       "      <td>I am amazed at how this movie(and most others ...</td>\n",
       "      <td>1</td>\n",
       "    </tr>\n",
       "    <tr>\n",
       "      <th>24998</th>\n",
       "      <td>A Christmas Together actually came before my t...</td>\n",
       "      <td>1</td>\n",
       "    </tr>\n",
       "    <tr>\n",
       "      <th>24999</th>\n",
       "      <td>Working-class romantic drama from director Mar...</td>\n",
       "      <td>1</td>\n",
       "    </tr>\n",
       "  </tbody>\n",
       "</table>\n",
       "<p>25000 rows × 2 columns</p>\n",
       "</div>"
      ],
      "text/plain": [
       "                                                  review  label\n",
       "0      Story of a man who has unnatural feelings for ...     -1\n",
       "1      Airport '77 starts as a brand new luxury 747 p...     -1\n",
       "2      This film lacked something I couldn't put my f...     -1\n",
       "3      Sorry everyone,,, I know this is supposed to b...     -1\n",
       "4      When I was little my parents took me along to ...     -1\n",
       "...                                                  ...    ...\n",
       "24995  Seeing as the vote average was pretty low, and...      1\n",
       "24996  The plot had some wretched, unbelievable twist...      1\n",
       "24997  I am amazed at how this movie(and most others ...      1\n",
       "24998  A Christmas Together actually came before my t...      1\n",
       "24999  Working-class romantic drama from director Mar...      1\n",
       "\n",
       "[25000 rows x 2 columns]"
      ]
     },
     "execution_count": 4,
     "metadata": {},
     "output_type": "execute_result"
    }
   ],
   "source": [
    "training_reviews"
   ]
  },
  {
   "cell_type": "code",
   "execution_count": 5,
   "id": "a53ae814-0dc4-49f1-916c-299825b6d231",
   "metadata": {},
   "outputs": [
    {
     "data": {
      "text/html": [
       "<div>\n",
       "<style scoped>\n",
       "    .dataframe tbody tr th:only-of-type {\n",
       "        vertical-align: middle;\n",
       "    }\n",
       "\n",
       "    .dataframe tbody tr th {\n",
       "        vertical-align: top;\n",
       "    }\n",
       "\n",
       "    .dataframe thead th {\n",
       "        text-align: right;\n",
       "    }\n",
       "</style>\n",
       "<table border=\"1\" class=\"dataframe\">\n",
       "  <thead>\n",
       "    <tr style=\"text-align: right;\">\n",
       "      <th></th>\n",
       "      <th>review</th>\n",
       "      <th>label</th>\n",
       "    </tr>\n",
       "  </thead>\n",
       "  <tbody>\n",
       "    <tr>\n",
       "      <th>0</th>\n",
       "      <td>Once again Mr. Costner has dragged out a movie...</td>\n",
       "      <td>-1</td>\n",
       "    </tr>\n",
       "    <tr>\n",
       "      <th>1</th>\n",
       "      <td>This is an example of why the majority of acti...</td>\n",
       "      <td>-1</td>\n",
       "    </tr>\n",
       "    <tr>\n",
       "      <th>2</th>\n",
       "      <td>First of all I hate those moronic rappers, who...</td>\n",
       "      <td>-1</td>\n",
       "    </tr>\n",
       "    <tr>\n",
       "      <th>3</th>\n",
       "      <td>Not even the Beatles could write songs everyon...</td>\n",
       "      <td>-1</td>\n",
       "    </tr>\n",
       "    <tr>\n",
       "      <th>4</th>\n",
       "      <td>Brass pictures (movies is not a fitting word f...</td>\n",
       "      <td>-1</td>\n",
       "    </tr>\n",
       "    <tr>\n",
       "      <th>...</th>\n",
       "      <td>...</td>\n",
       "      <td>...</td>\n",
       "    </tr>\n",
       "    <tr>\n",
       "      <th>24995</th>\n",
       "      <td>I was extraordinarily impressed by this film. ...</td>\n",
       "      <td>1</td>\n",
       "    </tr>\n",
       "    <tr>\n",
       "      <th>24996</th>\n",
       "      <td>Although I'm not a golf fan, I attended a snea...</td>\n",
       "      <td>1</td>\n",
       "    </tr>\n",
       "    <tr>\n",
       "      <th>24997</th>\n",
       "      <td>From the start of \"The Edge Of Love\", the view...</td>\n",
       "      <td>1</td>\n",
       "    </tr>\n",
       "    <tr>\n",
       "      <th>24998</th>\n",
       "      <td>This movie, with all its complexity and subtle...</td>\n",
       "      <td>1</td>\n",
       "    </tr>\n",
       "    <tr>\n",
       "      <th>24999</th>\n",
       "      <td>I've seen this story before but my kids haven'...</td>\n",
       "      <td>1</td>\n",
       "    </tr>\n",
       "  </tbody>\n",
       "</table>\n",
       "<p>25000 rows × 2 columns</p>\n",
       "</div>"
      ],
      "text/plain": [
       "                                                  review  label\n",
       "0      Once again Mr. Costner has dragged out a movie...     -1\n",
       "1      This is an example of why the majority of acti...     -1\n",
       "2      First of all I hate those moronic rappers, who...     -1\n",
       "3      Not even the Beatles could write songs everyon...     -1\n",
       "4      Brass pictures (movies is not a fitting word f...     -1\n",
       "...                                                  ...    ...\n",
       "24995  I was extraordinarily impressed by this film. ...      1\n",
       "24996  Although I'm not a golf fan, I attended a snea...      1\n",
       "24997  From the start of \"The Edge Of Love\", the view...      1\n",
       "24998  This movie, with all its complexity and subtle...      1\n",
       "24999  I've seen this story before but my kids haven'...      1\n",
       "\n",
       "[25000 rows x 2 columns]"
      ]
     },
     "execution_count": 5,
     "metadata": {},
     "output_type": "execute_result"
    }
   ],
   "source": [
    "testing_reviews"
   ]
  },
  {
   "cell_type": "markdown",
   "id": "bf236645-6370-4a50-918c-17679d3bebf4",
   "metadata": {},
   "source": [
    "## Encode the training data and divide the number of occurences by the sum of frequencies for each word per class and add Laplace add-one rule for smoothing"
   ]
  },
  {
   "cell_type": "code",
   "execution_count": 6,
   "id": "715d99be-c656-43d9-89f6-1df9a3ecfdc2",
   "metadata": {},
   "outputs": [],
   "source": [
    "countvec = CountVectorizer(ngram_range=(1,1), stop_words='english')\n",
    "encoded_data = countvec.fit_transform(training_reviews['review'])"
   ]
  },
  {
   "cell_type": "code",
   "execution_count": 7,
   "id": "fcf64563-93b2-4425-adee-ef9cadbffa84",
   "metadata": {},
   "outputs": [
    {
     "name": "stderr",
     "output_type": "stream",
     "text": [
      "C:\\Users\\abuinoschi\\Anaconda3\\envs\\rn4nlp\\lib\\site-packages\\sklearn\\utils\\deprecation.py:87: FutureWarning: Function get_feature_names is deprecated; get_feature_names is deprecated in 1.0 and will be removed in 1.2. Please use get_feature_names_out instead.\n",
      "  warnings.warn(msg, category=FutureWarning)\n"
     ]
    }
   ],
   "source": [
    "encoded_data_df = pd.DataFrame(encoded_data.toarray(),columns=countvec.get_feature_names())"
   ]
  },
  {
   "cell_type": "code",
   "execution_count": 8,
   "id": "2747cb21-8256-4bae-807e-9196792c278b",
   "metadata": {},
   "outputs": [
    {
     "data": {
      "text/html": [
       "<div>\n",
       "<style scoped>\n",
       "    .dataframe tbody tr th:only-of-type {\n",
       "        vertical-align: middle;\n",
       "    }\n",
       "\n",
       "    .dataframe tbody tr th {\n",
       "        vertical-align: top;\n",
       "    }\n",
       "\n",
       "    .dataframe thead th {\n",
       "        text-align: right;\n",
       "    }\n",
       "</style>\n",
       "<table border=\"1\" class=\"dataframe\">\n",
       "  <thead>\n",
       "    <tr style=\"text-align: right;\">\n",
       "      <th></th>\n",
       "      <th>00</th>\n",
       "      <th>000</th>\n",
       "      <th>0000000000001</th>\n",
       "      <th>00001</th>\n",
       "      <th>00015</th>\n",
       "      <th>000s</th>\n",
       "      <th>001</th>\n",
       "      <th>003830</th>\n",
       "      <th>006</th>\n",
       "      <th>007</th>\n",
       "      <th>...</th>\n",
       "      <th>était</th>\n",
       "      <th>état</th>\n",
       "      <th>étc</th>\n",
       "      <th>évery</th>\n",
       "      <th>êxtase</th>\n",
       "      <th>ís</th>\n",
       "      <th>ísnt</th>\n",
       "      <th>østbye</th>\n",
       "      <th>über</th>\n",
       "      <th>üvegtigris</th>\n",
       "    </tr>\n",
       "  </thead>\n",
       "  <tbody>\n",
       "    <tr>\n",
       "      <th>0</th>\n",
       "      <td>0</td>\n",
       "      <td>0</td>\n",
       "      <td>0</td>\n",
       "      <td>0</td>\n",
       "      <td>0</td>\n",
       "      <td>0</td>\n",
       "      <td>0</td>\n",
       "      <td>0</td>\n",
       "      <td>0</td>\n",
       "      <td>0</td>\n",
       "      <td>...</td>\n",
       "      <td>0</td>\n",
       "      <td>0</td>\n",
       "      <td>0</td>\n",
       "      <td>0</td>\n",
       "      <td>0</td>\n",
       "      <td>0</td>\n",
       "      <td>0</td>\n",
       "      <td>0</td>\n",
       "      <td>0</td>\n",
       "      <td>0</td>\n",
       "    </tr>\n",
       "    <tr>\n",
       "      <th>1</th>\n",
       "      <td>0</td>\n",
       "      <td>0</td>\n",
       "      <td>0</td>\n",
       "      <td>0</td>\n",
       "      <td>0</td>\n",
       "      <td>0</td>\n",
       "      <td>0</td>\n",
       "      <td>0</td>\n",
       "      <td>0</td>\n",
       "      <td>0</td>\n",
       "      <td>...</td>\n",
       "      <td>0</td>\n",
       "      <td>0</td>\n",
       "      <td>0</td>\n",
       "      <td>0</td>\n",
       "      <td>0</td>\n",
       "      <td>0</td>\n",
       "      <td>0</td>\n",
       "      <td>0</td>\n",
       "      <td>0</td>\n",
       "      <td>0</td>\n",
       "    </tr>\n",
       "    <tr>\n",
       "      <th>2</th>\n",
       "      <td>0</td>\n",
       "      <td>0</td>\n",
       "      <td>0</td>\n",
       "      <td>0</td>\n",
       "      <td>0</td>\n",
       "      <td>0</td>\n",
       "      <td>0</td>\n",
       "      <td>0</td>\n",
       "      <td>0</td>\n",
       "      <td>0</td>\n",
       "      <td>...</td>\n",
       "      <td>0</td>\n",
       "      <td>0</td>\n",
       "      <td>0</td>\n",
       "      <td>0</td>\n",
       "      <td>0</td>\n",
       "      <td>0</td>\n",
       "      <td>0</td>\n",
       "      <td>0</td>\n",
       "      <td>0</td>\n",
       "      <td>0</td>\n",
       "    </tr>\n",
       "    <tr>\n",
       "      <th>3</th>\n",
       "      <td>0</td>\n",
       "      <td>0</td>\n",
       "      <td>0</td>\n",
       "      <td>0</td>\n",
       "      <td>0</td>\n",
       "      <td>0</td>\n",
       "      <td>0</td>\n",
       "      <td>0</td>\n",
       "      <td>0</td>\n",
       "      <td>0</td>\n",
       "      <td>...</td>\n",
       "      <td>0</td>\n",
       "      <td>0</td>\n",
       "      <td>0</td>\n",
       "      <td>0</td>\n",
       "      <td>0</td>\n",
       "      <td>0</td>\n",
       "      <td>0</td>\n",
       "      <td>0</td>\n",
       "      <td>0</td>\n",
       "      <td>0</td>\n",
       "    </tr>\n",
       "    <tr>\n",
       "      <th>4</th>\n",
       "      <td>0</td>\n",
       "      <td>0</td>\n",
       "      <td>0</td>\n",
       "      <td>0</td>\n",
       "      <td>0</td>\n",
       "      <td>0</td>\n",
       "      <td>0</td>\n",
       "      <td>0</td>\n",
       "      <td>0</td>\n",
       "      <td>0</td>\n",
       "      <td>...</td>\n",
       "      <td>0</td>\n",
       "      <td>0</td>\n",
       "      <td>0</td>\n",
       "      <td>0</td>\n",
       "      <td>0</td>\n",
       "      <td>0</td>\n",
       "      <td>0</td>\n",
       "      <td>0</td>\n",
       "      <td>0</td>\n",
       "      <td>0</td>\n",
       "    </tr>\n",
       "    <tr>\n",
       "      <th>...</th>\n",
       "      <td>...</td>\n",
       "      <td>...</td>\n",
       "      <td>...</td>\n",
       "      <td>...</td>\n",
       "      <td>...</td>\n",
       "      <td>...</td>\n",
       "      <td>...</td>\n",
       "      <td>...</td>\n",
       "      <td>...</td>\n",
       "      <td>...</td>\n",
       "      <td>...</td>\n",
       "      <td>...</td>\n",
       "      <td>...</td>\n",
       "      <td>...</td>\n",
       "      <td>...</td>\n",
       "      <td>...</td>\n",
       "      <td>...</td>\n",
       "      <td>...</td>\n",
       "      <td>...</td>\n",
       "      <td>...</td>\n",
       "      <td>...</td>\n",
       "    </tr>\n",
       "    <tr>\n",
       "      <th>24995</th>\n",
       "      <td>0</td>\n",
       "      <td>0</td>\n",
       "      <td>0</td>\n",
       "      <td>0</td>\n",
       "      <td>0</td>\n",
       "      <td>0</td>\n",
       "      <td>0</td>\n",
       "      <td>0</td>\n",
       "      <td>0</td>\n",
       "      <td>0</td>\n",
       "      <td>...</td>\n",
       "      <td>0</td>\n",
       "      <td>0</td>\n",
       "      <td>0</td>\n",
       "      <td>0</td>\n",
       "      <td>0</td>\n",
       "      <td>0</td>\n",
       "      <td>0</td>\n",
       "      <td>0</td>\n",
       "      <td>0</td>\n",
       "      <td>0</td>\n",
       "    </tr>\n",
       "    <tr>\n",
       "      <th>24996</th>\n",
       "      <td>0</td>\n",
       "      <td>0</td>\n",
       "      <td>0</td>\n",
       "      <td>0</td>\n",
       "      <td>0</td>\n",
       "      <td>0</td>\n",
       "      <td>0</td>\n",
       "      <td>0</td>\n",
       "      <td>0</td>\n",
       "      <td>0</td>\n",
       "      <td>...</td>\n",
       "      <td>0</td>\n",
       "      <td>0</td>\n",
       "      <td>0</td>\n",
       "      <td>0</td>\n",
       "      <td>0</td>\n",
       "      <td>0</td>\n",
       "      <td>0</td>\n",
       "      <td>0</td>\n",
       "      <td>0</td>\n",
       "      <td>0</td>\n",
       "    </tr>\n",
       "    <tr>\n",
       "      <th>24997</th>\n",
       "      <td>0</td>\n",
       "      <td>0</td>\n",
       "      <td>0</td>\n",
       "      <td>0</td>\n",
       "      <td>0</td>\n",
       "      <td>0</td>\n",
       "      <td>0</td>\n",
       "      <td>0</td>\n",
       "      <td>0</td>\n",
       "      <td>0</td>\n",
       "      <td>...</td>\n",
       "      <td>0</td>\n",
       "      <td>0</td>\n",
       "      <td>0</td>\n",
       "      <td>0</td>\n",
       "      <td>0</td>\n",
       "      <td>0</td>\n",
       "      <td>0</td>\n",
       "      <td>0</td>\n",
       "      <td>0</td>\n",
       "      <td>0</td>\n",
       "    </tr>\n",
       "    <tr>\n",
       "      <th>24998</th>\n",
       "      <td>0</td>\n",
       "      <td>0</td>\n",
       "      <td>0</td>\n",
       "      <td>0</td>\n",
       "      <td>0</td>\n",
       "      <td>0</td>\n",
       "      <td>0</td>\n",
       "      <td>0</td>\n",
       "      <td>0</td>\n",
       "      <td>0</td>\n",
       "      <td>...</td>\n",
       "      <td>0</td>\n",
       "      <td>0</td>\n",
       "      <td>0</td>\n",
       "      <td>0</td>\n",
       "      <td>0</td>\n",
       "      <td>0</td>\n",
       "      <td>0</td>\n",
       "      <td>0</td>\n",
       "      <td>0</td>\n",
       "      <td>0</td>\n",
       "    </tr>\n",
       "    <tr>\n",
       "      <th>24999</th>\n",
       "      <td>0</td>\n",
       "      <td>0</td>\n",
       "      <td>0</td>\n",
       "      <td>0</td>\n",
       "      <td>0</td>\n",
       "      <td>0</td>\n",
       "      <td>0</td>\n",
       "      <td>0</td>\n",
       "      <td>0</td>\n",
       "      <td>0</td>\n",
       "      <td>...</td>\n",
       "      <td>0</td>\n",
       "      <td>0</td>\n",
       "      <td>0</td>\n",
       "      <td>0</td>\n",
       "      <td>0</td>\n",
       "      <td>0</td>\n",
       "      <td>0</td>\n",
       "      <td>0</td>\n",
       "      <td>0</td>\n",
       "      <td>0</td>\n",
       "    </tr>\n",
       "  </tbody>\n",
       "</table>\n",
       "<p>25000 rows × 74538 columns</p>\n",
       "</div>"
      ],
      "text/plain": [
       "       00  000  0000000000001  00001  00015  000s  001  003830  006  007  ...  \\\n",
       "0       0    0              0      0      0     0    0       0    0    0  ...   \n",
       "1       0    0              0      0      0     0    0       0    0    0  ...   \n",
       "2       0    0              0      0      0     0    0       0    0    0  ...   \n",
       "3       0    0              0      0      0     0    0       0    0    0  ...   \n",
       "4       0    0              0      0      0     0    0       0    0    0  ...   \n",
       "...    ..  ...            ...    ...    ...   ...  ...     ...  ...  ...  ...   \n",
       "24995   0    0              0      0      0     0    0       0    0    0  ...   \n",
       "24996   0    0              0      0      0     0    0       0    0    0  ...   \n",
       "24997   0    0              0      0      0     0    0       0    0    0  ...   \n",
       "24998   0    0              0      0      0     0    0       0    0    0  ...   \n",
       "24999   0    0              0      0      0     0    0       0    0    0  ...   \n",
       "\n",
       "       était  état  étc  évery  êxtase  ís  ísnt  østbye  über  üvegtigris  \n",
       "0          0     0    0      0       0   0     0       0     0           0  \n",
       "1          0     0    0      0       0   0     0       0     0           0  \n",
       "2          0     0    0      0       0   0     0       0     0           0  \n",
       "3          0     0    0      0       0   0     0       0     0           0  \n",
       "4          0     0    0      0       0   0     0       0     0           0  \n",
       "...      ...   ...  ...    ...     ...  ..   ...     ...   ...         ...  \n",
       "24995      0     0    0      0       0   0     0       0     0           0  \n",
       "24996      0     0    0      0       0   0     0       0     0           0  \n",
       "24997      0     0    0      0       0   0     0       0     0           0  \n",
       "24998      0     0    0      0       0   0     0       0     0           0  \n",
       "24999      0     0    0      0       0   0     0       0     0           0  \n",
       "\n",
       "[25000 rows x 74538 columns]"
      ]
     },
     "execution_count": 8,
     "metadata": {},
     "output_type": "execute_result"
    }
   ],
   "source": [
    "encoded_data_df"
   ]
  },
  {
   "cell_type": "code",
   "execution_count": 9,
   "id": "d951daa3-9492-44de-af12-57f7ebb3d373",
   "metadata": {},
   "outputs": [
    {
     "name": "stderr",
     "output_type": "stream",
     "text": [
      "C:\\Users\\abuinoschi\\Anaconda3\\envs\\rn4nlp\\lib\\site-packages\\sklearn\\utils\\deprecation.py:87: FutureWarning: Function get_feature_names is deprecated; get_feature_names is deprecated in 1.0 and will be removed in 1.2. Please use get_feature_names_out instead.\n",
      "  warnings.warn(msg, category=FutureWarning)\n"
     ]
    },
    {
     "data": {
      "text/plain": [
       "74538"
      ]
     },
     "execution_count": 9,
     "metadata": {},
     "output_type": "execute_result"
    }
   ],
   "source": [
    "# The length of entire vocabulary is\n",
    "len(countvec.get_feature_names())"
   ]
  },
  {
   "cell_type": "code",
   "execution_count": 10,
   "id": "a195bfec-72db-498b-971a-74ccec0c3401",
   "metadata": {},
   "outputs": [
    {
     "name": "stderr",
     "output_type": "stream",
     "text": [
      "C:\\Users\\abuinoschi\\Anaconda3\\envs\\rn4nlp\\lib\\site-packages\\sklearn\\utils\\deprecation.py:87: FutureWarning: Function get_feature_names is deprecated; get_feature_names is deprecated in 1.0 and will be removed in 1.2. Please use get_feature_names_out instead.\n",
      "  warnings.warn(msg, category=FutureWarning)\n"
     ]
    }
   ],
   "source": [
    "nominator = encoded_data_df.iloc[training_reviews[training_reviews['label'] == -1].index] + 1\n",
    "denominator = np.sum(encoded_data_df.iloc[training_reviews[training_reviews['label'] == -1].index], axis=0) + len(countvec.get_feature_names())"
   ]
  },
  {
   "cell_type": "code",
   "execution_count": 11,
   "id": "b6afe893-d420-49ca-8027-44990df897af",
   "metadata": {},
   "outputs": [],
   "source": [
    "# Update the encoded data\n",
    "temp_negative = nominator / denominator.values"
   ]
  },
  {
   "cell_type": "code",
   "execution_count": 12,
   "id": "31841145-9e5d-4ec2-9831-b2d708971e56",
   "metadata": {},
   "outputs": [
    {
     "name": "stderr",
     "output_type": "stream",
     "text": [
      "C:\\Users\\abuinoschi\\Anaconda3\\envs\\rn4nlp\\lib\\site-packages\\sklearn\\utils\\deprecation.py:87: FutureWarning: Function get_feature_names is deprecated; get_feature_names is deprecated in 1.0 and will be removed in 1.2. Please use get_feature_names_out instead.\n",
      "  warnings.warn(msg, category=FutureWarning)\n"
     ]
    }
   ],
   "source": [
    "nominator = encoded_data_df.iloc[training_reviews[training_reviews['label'] == 1].index] + 1\n",
    "denominator = np.sum(encoded_data_df.iloc[training_reviews[training_reviews['label'] == 1].index], axis=0) + len(countvec.get_feature_names())\n",
    "\n",
    "# Update the encoded data\n",
    "temp_positive = nominator / denominator.values"
   ]
  },
  {
   "cell_type": "code",
   "execution_count": 13,
   "id": "ac651803-20c3-4802-8c1a-ecfad80d674f",
   "metadata": {},
   "outputs": [],
   "source": [
    "encoded_data_df = temp_negative.append(temp_positive)"
   ]
  },
  {
   "cell_type": "code",
   "execution_count": 14,
   "id": "66946185-ebe5-45ed-be41-e27629cd7d7b",
   "metadata": {},
   "outputs": [],
   "source": [
    "del temp_negative\n",
    "del temp_positive"
   ]
  },
  {
   "cell_type": "markdown",
   "id": "c81706c4-1a95-49b7-b286-b5c2373bc68a",
   "metadata": {},
   "source": [
    "## Train Gaussian Naive Bayes"
   ]
  },
  {
   "cell_type": "code",
   "execution_count": 15,
   "id": "858d5d6b-2712-4c3e-b1f8-16cd0a62b57c",
   "metadata": {},
   "outputs": [
    {
     "data": {
      "text/plain": [
       "GaussianNB()"
      ]
     },
     "execution_count": 15,
     "metadata": {},
     "output_type": "execute_result"
    }
   ],
   "source": [
    "model = GaussianNB()\n",
    "model.fit(encoded_data_df, training_reviews['label'])"
   ]
  },
  {
   "cell_type": "code",
   "execution_count": 16,
   "id": "4aa5e6a3-8209-438d-ba95-120b72661cd2",
   "metadata": {},
   "outputs": [],
   "source": [
    "del encoded_data_df"
   ]
  },
  {
   "cell_type": "markdown",
   "id": "e8447a68-ca42-4d5a-9a45-d579e0c43ddf",
   "metadata": {},
   "source": [
    "## Encode testing data with Laplace add-one smoothing"
   ]
  },
  {
   "cell_type": "code",
   "execution_count": 17,
   "id": "d1dc3bca-7e77-4f3d-9e2a-4f8aaa184258",
   "metadata": {},
   "outputs": [
    {
     "name": "stderr",
     "output_type": "stream",
     "text": [
      "C:\\Users\\abuinoschi\\Anaconda3\\envs\\rn4nlp\\lib\\site-packages\\sklearn\\utils\\deprecation.py:87: FutureWarning: Function get_feature_names is deprecated; get_feature_names is deprecated in 1.0 and will be removed in 1.2. Please use get_feature_names_out instead.\n",
      "  warnings.warn(msg, category=FutureWarning)\n"
     ]
    }
   ],
   "source": [
    "testing_encoded_data = countvec.transform(testing_reviews['review'])\n",
    "testing_encoded_data_df = pd.DataFrame(testing_encoded_data.toarray(),columns=countvec.get_feature_names())"
   ]
  },
  {
   "cell_type": "code",
   "execution_count": 18,
   "id": "386d397c-5549-49ab-8e21-579f4772517d",
   "metadata": {},
   "outputs": [
    {
     "name": "stderr",
     "output_type": "stream",
     "text": [
      "C:\\Users\\abuinoschi\\Anaconda3\\envs\\rn4nlp\\lib\\site-packages\\sklearn\\utils\\deprecation.py:87: FutureWarning: Function get_feature_names is deprecated; get_feature_names is deprecated in 1.0 and will be removed in 1.2. Please use get_feature_names_out instead.\n",
      "  warnings.warn(msg, category=FutureWarning)\n"
     ]
    }
   ],
   "source": [
    "nominator = testing_encoded_data_df.iloc[testing_reviews[testing_reviews['label'] == -1].index] + 1\n",
    "denominator = np.sum(testing_encoded_data_df.iloc[testing_reviews[testing_reviews['label'] == -1].index], axis=0) + len(countvec.get_feature_names())\n",
    "\n",
    "# Update the encoded data\n",
    "temp_negative = nominator / denominator.values"
   ]
  },
  {
   "cell_type": "code",
   "execution_count": 19,
   "id": "f994e2ac-3815-4397-bce4-965680d81981",
   "metadata": {},
   "outputs": [
    {
     "name": "stderr",
     "output_type": "stream",
     "text": [
      "C:\\Users\\abuinoschi\\Anaconda3\\envs\\rn4nlp\\lib\\site-packages\\sklearn\\utils\\deprecation.py:87: FutureWarning: Function get_feature_names is deprecated; get_feature_names is deprecated in 1.0 and will be removed in 1.2. Please use get_feature_names_out instead.\n",
      "  warnings.warn(msg, category=FutureWarning)\n"
     ]
    }
   ],
   "source": [
    "nominator = testing_encoded_data_df.iloc[testing_reviews[testing_reviews['label'] == 1].index] + 1\n",
    "denominator = np.sum(testing_encoded_data_df.iloc[testing_reviews[testing_reviews['label'] == 1].index], axis=0) + len(countvec.get_feature_names())\n",
    "\n",
    "# Update the encoded data\n",
    "temp_positive = nominator / denominator.values"
   ]
  },
  {
   "cell_type": "code",
   "execution_count": 20,
   "id": "dc8ec648-b7ad-4a7b-86bf-e84cca482a68",
   "metadata": {},
   "outputs": [],
   "source": [
    "testing_encoded_data_df = temp_negative.append(temp_positive)"
   ]
  },
  {
   "cell_type": "code",
   "execution_count": 21,
   "id": "0cbe0cec-9f37-424b-99b8-3233fae0e871",
   "metadata": {},
   "outputs": [],
   "source": [
    "del temp_negative\n",
    "del temp_positive"
   ]
  },
  {
   "cell_type": "markdown",
   "id": "3b1d20ff-0043-4440-a494-c9fdfb7d658b",
   "metadata": {},
   "source": [
    "## Predict for the test data "
   ]
  },
  {
   "cell_type": "code",
   "execution_count": 22,
   "id": "25890f5c-1b53-4a68-8f7a-13a75f55f7e9",
   "metadata": {},
   "outputs": [],
   "source": [
    "predictions = model.predict(testing_encoded_data_df)"
   ]
  },
  {
   "cell_type": "code",
   "execution_count": 23,
   "id": "227a95f2-9365-43b5-91d8-286885e08501",
   "metadata": {},
   "outputs": [],
   "source": [
    "del testing_encoded_data_df"
   ]
  },
  {
   "cell_type": "code",
   "execution_count": 24,
   "id": "429d0f82-88f1-4e29-b686-20990bc9fb28",
   "metadata": {},
   "outputs": [],
   "source": [
    "testing_reviews['predicted'] = predictions"
   ]
  },
  {
   "cell_type": "code",
   "execution_count": 25,
   "id": "ea8a91fc-2620-4890-ac16-f28112f660e7",
   "metadata": {},
   "outputs": [
    {
     "data": {
      "text/html": [
       "<div>\n",
       "<style scoped>\n",
       "    .dataframe tbody tr th:only-of-type {\n",
       "        vertical-align: middle;\n",
       "    }\n",
       "\n",
       "    .dataframe tbody tr th {\n",
       "        vertical-align: top;\n",
       "    }\n",
       "\n",
       "    .dataframe thead th {\n",
       "        text-align: right;\n",
       "    }\n",
       "</style>\n",
       "<table border=\"1\" class=\"dataframe\">\n",
       "  <thead>\n",
       "    <tr style=\"text-align: right;\">\n",
       "      <th></th>\n",
       "      <th>review</th>\n",
       "      <th>label</th>\n",
       "      <th>predicted</th>\n",
       "    </tr>\n",
       "  </thead>\n",
       "  <tbody>\n",
       "    <tr>\n",
       "      <th>0</th>\n",
       "      <td>Once again Mr. Costner has dragged out a movie...</td>\n",
       "      <td>-1</td>\n",
       "      <td>-1</td>\n",
       "    </tr>\n",
       "    <tr>\n",
       "      <th>1</th>\n",
       "      <td>This is an example of why the majority of acti...</td>\n",
       "      <td>-1</td>\n",
       "      <td>-1</td>\n",
       "    </tr>\n",
       "    <tr>\n",
       "      <th>2</th>\n",
       "      <td>First of all I hate those moronic rappers, who...</td>\n",
       "      <td>-1</td>\n",
       "      <td>-1</td>\n",
       "    </tr>\n",
       "    <tr>\n",
       "      <th>3</th>\n",
       "      <td>Not even the Beatles could write songs everyon...</td>\n",
       "      <td>-1</td>\n",
       "      <td>1</td>\n",
       "    </tr>\n",
       "    <tr>\n",
       "      <th>4</th>\n",
       "      <td>Brass pictures (movies is not a fitting word f...</td>\n",
       "      <td>-1</td>\n",
       "      <td>-1</td>\n",
       "    </tr>\n",
       "    <tr>\n",
       "      <th>...</th>\n",
       "      <td>...</td>\n",
       "      <td>...</td>\n",
       "      <td>...</td>\n",
       "    </tr>\n",
       "    <tr>\n",
       "      <th>24995</th>\n",
       "      <td>I was extraordinarily impressed by this film. ...</td>\n",
       "      <td>1</td>\n",
       "      <td>-1</td>\n",
       "    </tr>\n",
       "    <tr>\n",
       "      <th>24996</th>\n",
       "      <td>Although I'm not a golf fan, I attended a snea...</td>\n",
       "      <td>1</td>\n",
       "      <td>-1</td>\n",
       "    </tr>\n",
       "    <tr>\n",
       "      <th>24997</th>\n",
       "      <td>From the start of \"The Edge Of Love\", the view...</td>\n",
       "      <td>1</td>\n",
       "      <td>1</td>\n",
       "    </tr>\n",
       "    <tr>\n",
       "      <th>24998</th>\n",
       "      <td>This movie, with all its complexity and subtle...</td>\n",
       "      <td>1</td>\n",
       "      <td>-1</td>\n",
       "    </tr>\n",
       "    <tr>\n",
       "      <th>24999</th>\n",
       "      <td>I've seen this story before but my kids haven'...</td>\n",
       "      <td>1</td>\n",
       "      <td>-1</td>\n",
       "    </tr>\n",
       "  </tbody>\n",
       "</table>\n",
       "<p>25000 rows × 3 columns</p>\n",
       "</div>"
      ],
      "text/plain": [
       "                                                  review  label  predicted\n",
       "0      Once again Mr. Costner has dragged out a movie...     -1         -1\n",
       "1      This is an example of why the majority of acti...     -1         -1\n",
       "2      First of all I hate those moronic rappers, who...     -1         -1\n",
       "3      Not even the Beatles could write songs everyon...     -1          1\n",
       "4      Brass pictures (movies is not a fitting word f...     -1         -1\n",
       "...                                                  ...    ...        ...\n",
       "24995  I was extraordinarily impressed by this film. ...      1         -1\n",
       "24996  Although I'm not a golf fan, I attended a snea...      1         -1\n",
       "24997  From the start of \"The Edge Of Love\", the view...      1          1\n",
       "24998  This movie, with all its complexity and subtle...      1         -1\n",
       "24999  I've seen this story before but my kids haven'...      1         -1\n",
       "\n",
       "[25000 rows x 3 columns]"
      ]
     },
     "execution_count": 25,
     "metadata": {},
     "output_type": "execute_result"
    }
   ],
   "source": [
    "testing_reviews"
   ]
  },
  {
   "cell_type": "markdown",
   "id": "04e6e5c2-45f4-4285-9731-210331e9e3fa",
   "metadata": {},
   "source": [
    "## Print results metrics"
   ]
  },
  {
   "cell_type": "code",
   "execution_count": 26,
   "id": "d7ba10bb-a79e-49d4-a07c-7e09c219b7c4",
   "metadata": {},
   "outputs": [
    {
     "data": {
      "text/html": [
       "<div>\n",
       "<style scoped>\n",
       "    .dataframe tbody tr th:only-of-type {\n",
       "        vertical-align: middle;\n",
       "    }\n",
       "\n",
       "    .dataframe tbody tr th {\n",
       "        vertical-align: top;\n",
       "    }\n",
       "\n",
       "    .dataframe thead th {\n",
       "        text-align: right;\n",
       "    }\n",
       "</style>\n",
       "<table border=\"1\" class=\"dataframe\">\n",
       "  <thead>\n",
       "    <tr style=\"text-align: right;\">\n",
       "      <th></th>\n",
       "      <th>Predicted negative</th>\n",
       "      <th>Predicted positive</th>\n",
       "    </tr>\n",
       "  </thead>\n",
       "  <tbody>\n",
       "    <tr>\n",
       "      <th>Actual negative</th>\n",
       "      <td>9472</td>\n",
       "      <td>3028</td>\n",
       "    </tr>\n",
       "    <tr>\n",
       "      <th>Actual positive</th>\n",
       "      <td>7799</td>\n",
       "      <td>4701</td>\n",
       "    </tr>\n",
       "  </tbody>\n",
       "</table>\n",
       "</div>"
      ],
      "text/plain": [
       "                 Predicted negative  Predicted positive\n",
       "Actual negative                9472                3028\n",
       "Actual positive                7799                4701"
      ]
     },
     "execution_count": 26,
     "metadata": {},
     "output_type": "execute_result"
    }
   ],
   "source": [
    "confusion_mat = confusion_matrix(testing_reviews['label'], testing_reviews['predicted'])\n",
    "confusion_mat_df = pd.DataFrame(confusion_mat, columns = ['Predicted negative', 'Predicted positive'], index = ['Actual negative', 'Actual positive'])\n",
    "confusion_mat_df"
   ]
  },
  {
   "cell_type": "code",
   "execution_count": 27,
   "id": "2f4d4f00-40fa-4831-83d2-76e98ee7ae74",
   "metadata": {},
   "outputs": [
    {
     "name": "stdout",
     "output_type": "stream",
     "text": [
      "                    precision    recall  f1-score   support\n",
      "\n",
      "Negative sentiment       0.55      0.76      0.64     12500\n",
      "Positive sentiment       0.61      0.38      0.46     12500\n",
      "\n",
      "          accuracy                           0.57     25000\n",
      "         macro avg       0.58      0.57      0.55     25000\n",
      "      weighted avg       0.58      0.57      0.55     25000\n",
      "\n"
     ]
    }
   ],
   "source": [
    "print(classification_report(testing_reviews['label'], testing_reviews['predicted'], target_names=['Negative sentiment', 'Positive sentiment']))"
   ]
  },
  {
   "cell_type": "code",
   "execution_count": null,
   "id": "2eb080c3-d3cc-4a90-b0f4-f87ae3f12edf",
   "metadata": {},
   "outputs": [],
   "source": []
  }
 ],
 "metadata": {
  "kernelspec": {
   "display_name": "Python 3 (ipykernel)",
   "language": "python",
   "name": "python3"
  },
  "language_info": {
   "codemirror_mode": {
    "name": "ipython",
    "version": 3
   },
   "file_extension": ".py",
   "mimetype": "text/x-python",
   "name": "python",
   "nbconvert_exporter": "python",
   "pygments_lexer": "ipython3",
   "version": "3.7.0"
  }
 },
 "nbformat": 4,
 "nbformat_minor": 5
}
