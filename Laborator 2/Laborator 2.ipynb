{
 "cells": [
  {
   "cell_type": "markdown",
   "id": "dfb24995-0318-4ce5-a25a-fa39c35725a0",
   "metadata": {},
   "source": [
    "# Laborator 2"
   ]
  },
  {
   "cell_type": "code",
   "execution_count": 1,
   "id": "b12a68ad-f39c-4011-a1cd-a91aefb447da",
   "metadata": {},
   "outputs": [],
   "source": [
    "import nltk\n",
    "from nltk.tree import Tree\n",
    "from nltk.draw.util import CanvasFrame\n",
    "from nltk.draw import TreeWidget\n",
    "\n",
    "import spacy\n",
    "import en_core_web_sm\n",
    "from spacy import displacy\n",
    "\n",
    "from IPython.display import display, Image\n",
    "from PIL import Image as PILImg"
   ]
  },
  {
   "cell_type": "markdown",
   "id": "aca4aa90-1c5f-4c5e-ae6c-06f305bec82f",
   "metadata": {},
   "source": [
    "## Exercitiile 1 & 2"
   ]
  },
  {
   "cell_type": "code",
   "execution_count": 2,
   "id": "8081924d-0578-4bd3-aa24-76e49a1b5bf9",
   "metadata": {},
   "outputs": [],
   "source": [
    "def print_and_plot_trees(grammar, sentence):\n",
    "    parser = nltk.ChartParser(grammar)\n",
    "    for tree in parser.parse(sentence):\n",
    "        print(tree)\n",
    "        tree.draw()\n",
    "        cf = CanvasFrame()\n",
    "        t = Tree.fromstring(str(tree))\n",
    "        tc = TreeWidget(cf.canvas(),t)\n",
    "        cf.add_widget(tc,10,10)\n",
    "        cf.print_to_file('tree.ps')\n",
    "        psimage=PILImg.open('tree.ps')\n",
    "        psimage.save('tree.png')\n",
    "        img = Image('tree.png')\n",
    "        display(img)\n",
    "        cf.destroy()"
   ]
  },
  {
   "cell_type": "markdown",
   "id": "9f8ad754-134b-43a5-917e-d2f7b37999a3",
   "metadata": {},
   "source": [
    "### I saw the lady on the hill.\n",
    "Ambiguity consists of:\n",
    "- I was on the hill. or \n",
    "- The lady was on the hill."
   ]
  },
  {
   "cell_type": "code",
   "execution_count": 3,
   "id": "c2ff8373-55bf-4966-8a3e-3e27dc04bf08",
   "metadata": {},
   "outputs": [],
   "source": [
    "grammar_one = nltk.CFG.fromstring(\"\"\"\n",
    " S -> NP VP\n",
    " PP -> P Det N\n",
    " NP -> Det N | 'I' | NP PP\n",
    " VP -> V NP | VP PP\n",
    " Det -> 'the'\n",
    " N -> 'lady' | 'hill'\n",
    " V -> 'saw'\n",
    " P -> 'on'\n",
    " \"\"\")"
   ]
  },
  {
   "cell_type": "code",
   "execution_count": 4,
   "id": "2e954758-3443-411a-b61b-7e10fac6f1c7",
   "metadata": {},
   "outputs": [
    {
     "data": {
      "text/plain": [
       "['I', 'saw', 'the', 'lady', 'on', 'the', 'hill']"
      ]
     },
     "execution_count": 4,
     "metadata": {},
     "output_type": "execute_result"
    }
   ],
   "source": [
    "sentence_one = 'I saw the lady on the hill.'\n",
    "sentence_one = sentence_one.rstrip('.')\n",
    "sentence_one = sentence_one.split(' ')\n",
    "sentence_one"
   ]
  },
  {
   "cell_type": "code",
   "execution_count": 5,
   "id": "1033fb45-e77c-4483-a697-d444515770b0",
   "metadata": {},
   "outputs": [
    {
     "name": "stdout",
     "output_type": "stream",
     "text": [
      "(S\n",
      "  (NP I)\n",
      "  (VP\n",
      "    (VP (V saw) (NP (Det the) (N lady)))\n",
      "    (PP (P on) (Det the) (N hill))))\n"
     ]
    },
    {
     "data": {
      "image/png": "[encoded data removed]",
      "text/plain": [
       "<IPython.core.display.Image object>"
      ]
     },
     "metadata": {},
     "output_type": "display_data"
    },
    {
     "name": "stdout",
     "output_type": "stream",
     "text": [
      "(S\n",
      "  (NP I)\n",
      "  (VP\n",
      "    (V saw)\n",
      "    (NP (NP (Det the) (N lady)) (PP (P on) (Det the) (N hill)))))\n"
     ]
    },
    {
     "data": {
      "image/png": "[encoded data removed]",
      "text/plain": [
       "<IPython.core.display.Image object>"
      ]
     },
     "metadata": {},
     "output_type": "display_data"
    }
   ],
   "source": [
    "print_and_plot_trees(grammar_one, sentence_one)"
   ]
  },
  {
   "cell_type": "markdown",
   "id": "188bac3e-3308-45a5-af03-61ec3083c264",
   "metadata": {},
   "source": [
    "### We ate octopus and shells for dinner.\n",
    "Ambiguity consists of:\n",
    "- for dinner as time (a formal evening meal)\n",
    "- for dinner as meal (the meal you eat in the evening) \n",
    "\n",
    "but either way, it doesn't change the syntax."
   ]
  },
  {
   "cell_type": "code",
   "execution_count": 6,
   "id": "6f662650-a950-4768-94bb-a32b78beb24c",
   "metadata": {},
   "outputs": [
    {
     "data": {
      "text/plain": [
       "['We', 'ate', 'octopus', 'and', 'shells', 'for', 'dinner']"
      ]
     },
     "execution_count": 6,
     "metadata": {},
     "output_type": "execute_result"
    }
   ],
   "source": [
    "sentence_two = 'We ate octopus and shells for dinner.'\n",
    "sentence_two = sentence_two.rstrip('.')\n",
    "sentence_two = sentence_two.split(' ')\n",
    "sentence_two"
   ]
  },
  {
   "cell_type": "code",
   "execution_count": 7,
   "id": "af315308-fa0d-4691-bca1-3fc9f427d391",
   "metadata": {},
   "outputs": [],
   "source": [
    "grammar_two = nltk.CFG.fromstring(\"\"\"\n",
    " S -> NP VP\n",
    " NP -> 'We' | N Conj N\n",
    " VP -> V NP PP\n",
    " PP -> P N\n",
    " P -> 'for'\n",
    " N -> 'octopus' | 'shells' | 'dinner'\n",
    " V -> 'ate'\n",
    " Conj -> 'and'\n",
    " \"\"\")"
   ]
  },
  {
   "cell_type": "code",
   "execution_count": 8,
   "id": "f0576bd4-50be-4cb7-9d65-8a120eeffd66",
   "metadata": {},
   "outputs": [
    {
     "name": "stdout",
     "output_type": "stream",
     "text": [
      "(S\n",
      "  (NP We)\n",
      "  (VP\n",
      "    (V ate)\n",
      "    (NP (N octopus) (Conj and) (N shells))\n",
      "    (PP (P for) (N dinner))))\n"
     ]
    },
    {
     "data": {
      "image/png": "[encoded data removed]",
      "text/plain": [
       "<IPython.core.display.Image object>"
      ]
     },
     "metadata": {},
     "output_type": "display_data"
    }
   ],
   "source": [
    "print_and_plot_trees(grammar_two, sentence_two)"
   ]
  },
  {
   "cell_type": "markdown",
   "id": "30085df7-a52b-4503-aab4-f91b9665657b",
   "metadata": {},
   "source": [
    "### Anna and Peter saw us."
   ]
  },
  {
   "cell_type": "code",
   "execution_count": 9,
   "id": "3db98847-0f3a-4a7a-9e99-554d83e43191",
   "metadata": {},
   "outputs": [
    {
     "data": {
      "text/plain": [
       "['Anna', 'and', 'Peter', 'saw', 'us']"
      ]
     },
     "execution_count": 9,
     "metadata": {},
     "output_type": "execute_result"
    }
   ],
   "source": [
    "sentence_three = 'Anna and Peter saw us.'\n",
    "sentence_three = sentence_three.rstrip('.')\n",
    "sentence_three = sentence_three.split(' ')\n",
    "sentence_three"
   ]
  },
  {
   "cell_type": "code",
   "execution_count": 10,
   "id": "352445ca-1b8c-414b-ba6c-b0e9a9552176",
   "metadata": {},
   "outputs": [],
   "source": [
    "grammar_three = nltk.CFG.fromstring(\"\"\"\n",
    " S -> NP VP\n",
    " NP -> N Conj N\n",
    " VP -> V NP\n",
    " N -> 'Anna' | 'Peter'\n",
    " V -> 'saw'\n",
    " Conj -> 'and'\n",
    " NP -> 'us'\n",
    " \"\"\")"
   ]
  },
  {
   "cell_type": "code",
   "execution_count": 11,
   "id": "a0c29bdb-9c98-4571-89d4-325b5a03a5cd",
   "metadata": {},
   "outputs": [
    {
     "name": "stdout",
     "output_type": "stream",
     "text": [
      "(S (NP (N Anna) (Conj and) (N Peter)) (VP (V saw) (NP us)))\n"
     ]
    },
    {
     "data": {
      "image/png": "[encoded data removed]",
      "text/plain": [
       "<IPython.core.display.Image object>"
      ]
     },
     "metadata": {},
     "output_type": "display_data"
    }
   ],
   "source": [
    "print_and_plot_trees(grammar_three, sentence_three)"
   ]
  },
  {
   "cell_type": "markdown",
   "id": "c61c6164-96f8-47e4-81f8-6f4e0157179a",
   "metadata": {},
   "source": [
    "### Getting grammars altogether"
   ]
  },
  {
   "cell_type": "code",
   "execution_count": 12,
   "id": "6d8a9172-4bb3-4924-b073-1bd8ffab69c3",
   "metadata": {},
   "outputs": [],
   "source": [
    "general_grammar = nltk.CFG.fromstring(\"\"\"\n",
    " S -> NP VP\n",
    " NP -> Det N | 'I' | NP PP | 'We' | N Conj N | 'us'\n",
    " PP -> P Det N | P N\n",
    " VP -> V NP | VP PP\n",
    " Det -> 'the'\n",
    " N -> 'lady' | 'hill' | 'octopus' | 'shells' | 'dinner' | 'Anna' | 'Peter'\n",
    " V -> 'saw' | 'ate'\n",
    " P -> 'on' | 'for'\n",
    " Conj -> 'and'\n",
    " \"\"\")"
   ]
  },
  {
   "cell_type": "code",
   "execution_count": 13,
   "id": "7d9df84e-dd60-4556-abcd-8e3170c89178",
   "metadata": {},
   "outputs": [
    {
     "name": "stdout",
     "output_type": "stream",
     "text": [
      "(S\n",
      "  (NP I)\n",
      "  (VP\n",
      "    (VP (V saw) (NP (Det the) (N lady)))\n",
      "    (PP (P on) (Det the) (N hill))))\n"
     ]
    },
    {
     "data": {
      "image/png": "[encoded data removed]",
      "text/plain": [
       "<IPython.core.display.Image object>"
      ]
     },
     "metadata": {},
     "output_type": "display_data"
    },
    {
     "name": "stdout",
     "output_type": "stream",
     "text": [
      "(S\n",
      "  (NP I)\n",
      "  (VP\n",
      "    (V saw)\n",
      "    (NP (NP (Det the) (N lady)) (PP (P on) (Det the) (N hill)))))\n"
     ]
    },
    {
     "data": {
      "image/png": "[encoded data removed]",
      "text/plain": [
       "<IPython.core.display.Image object>"
      ]
     },
     "metadata": {},
     "output_type": "display_data"
    }
   ],
   "source": [
    "print_and_plot_trees(general_grammar, sentence_one)"
   ]
  },
  {
   "cell_type": "code",
   "execution_count": 14,
   "id": "519a9387-5de1-4d19-9adb-a48288487759",
   "metadata": {},
   "outputs": [
    {
     "name": "stdout",
     "output_type": "stream",
     "text": [
      "(S\n",
      "  (NP We)\n",
      "  (VP\n",
      "    (VP (V ate) (NP (N octopus) (Conj and) (N shells)))\n",
      "    (PP (P for) (N dinner))))\n"
     ]
    },
    {
     "data": {
      "image/png": "[encoded data removed]",
      "text/plain": [
       "<IPython.core.display.Image object>"
      ]
     },
     "metadata": {},
     "output_type": "display_data"
    },
    {
     "name": "stdout",
     "output_type": "stream",
     "text": [
      "(S\n",
      "  (NP We)\n",
      "  (VP\n",
      "    (V ate)\n",
      "    (NP\n",
      "      (NP (N octopus) (Conj and) (N shells))\n",
      "      (PP (P for) (N dinner)))))\n"
     ]
    },
    {
     "data": {
      "image/png": "[encoded data removed]",
      "text/plain": [
       "<IPython.core.display.Image object>"
      ]
     },
     "metadata": {},
     "output_type": "display_data"
    }
   ],
   "source": [
    "print_and_plot_trees(general_grammar, sentence_two)"
   ]
  },
  {
   "cell_type": "code",
   "execution_count": 15,
   "id": "6254624e-281e-4380-bdbc-a7f002083188",
   "metadata": {},
   "outputs": [
    {
     "name": "stdout",
     "output_type": "stream",
     "text": [
      "(S (NP (N Anna) (Conj and) (N Peter)) (VP (V saw) (NP us)))\n"
     ]
    },
    {
     "data": {
      "image/png": "[encoded data removed]",
      "text/plain": [
       "<IPython.core.display.Image object>"
      ]
     },
     "metadata": {},
     "output_type": "display_data"
    }
   ],
   "source": [
    "print_and_plot_trees(general_grammar, sentence_three)"
   ]
  },
  {
   "cell_type": "markdown",
   "id": "5843fc0b-ea49-4903-8099-c40a1cab4f83",
   "metadata": {},
   "source": [
    "## Exercitiul 3"
   ]
  },
  {
   "cell_type": "code",
   "execution_count": 16,
   "id": "3bf30f65-6f36-44a9-a026-8febd1027edd",
   "metadata": {},
   "outputs": [
    {
     "name": "stdout",
     "output_type": "stream",
     "text": [
      "Dependency grammar with 7 productions\n",
      "  'saw' -> 'I'\n",
      "  'saw' -> 'lady'\n",
      "  'saw' -> 'on'\n",
      "  'lady' -> 'the'\n",
      "  'lady' -> 'on'\n",
      "  'on' -> 'hill'\n",
      "  'hill' -> 'the'\n"
     ]
    }
   ],
   "source": [
    "first_dependency_grammar = nltk.DependencyGrammar.fromstring(\"\"\"\n",
    "    'saw' -> 'I' | 'lady' | 'on'\n",
    "    'lady' -> 'the' | 'on'\n",
    "    'on' -> 'hill'\n",
    "    'hill' -> 'the'\n",
    "\"\"\")\n",
    "print(first_dependency_grammar)"
   ]
  },
  {
   "cell_type": "code",
   "execution_count": 17,
   "id": "0ca32069-3f63-4ad3-88b1-29763e068d2a",
   "metadata": {},
   "outputs": [
    {
     "name": "stdout",
     "output_type": "stream",
     "text": [
      "(saw I (lady the (on (hill the))))\n",
      "(saw I (lady the) (on (hill the)))\n"
     ]
    }
   ],
   "source": [
    "pdp = nltk.ProjectiveDependencyParser(first_dependency_grammar)\n",
    "sent = 'I saw the lady on the hill.'.rstrip('.').split()\n",
    "trees = pdp.parse(sent)\n",
    "for tree in trees:\n",
    "    print(tree)"
   ]
  },
  {
   "cell_type": "code",
   "execution_count": 18,
   "id": "42a69ede-38ef-4491-b858-c54a7d7e87c9",
   "metadata": {},
   "outputs": [],
   "source": [
    "def print_and_plot_dependency(sentence: str):\n",
    "    nlp = en_core_web_sm.load()\n",
    "    # nlp function returns an object with individual token information, \n",
    "    # linguistic features and relationships\n",
    "    doc = nlp(sentence)\n",
    "\n",
    "    print (\"{:<15} | {:<8} | {:<15} | {:<20}\".format('Token','Relation','Head', 'Children'))\n",
    "    print (\"-\" * 70)\n",
    "\n",
    "    for token in doc:\n",
    "      # Print the token, dependency nature, head and all dependents of the token\n",
    "      print (\"{:<15} | {:<8} | {:<15} | {:<20}\"\n",
    "             .format(str(token.text), str(token.dep_), str(token.head.text), str([child for child in token.children])))\n",
    "\n",
    "     # Use displayCy to visualize the dependency \n",
    "    displacy.render(doc, style='dep', jupyter=True, options={'distance': 120})"
   ]
  },
  {
   "cell_type": "code",
   "execution_count": 19,
   "id": "21e68d8e-974e-4d9c-8015-877994653b2a",
   "metadata": {},
   "outputs": [
    {
     "name": "stdout",
     "output_type": "stream",
     "text": [
      "THE SENTENCE IS: I saw the lady on the hill.\n",
      "Token           | Relation | Head            | Children            \n",
      "----------------------------------------------------------------------\n",
      "I               | nsubj    | saw             | []                  \n",
      "saw             | ROOT     | saw             | [I, lady, .]        \n",
      "the             | det      | lady            | []                  \n",
      "lady            | dobj     | saw             | [the, on]           \n",
      "on              | prep     | lady            | [hill]              \n",
      "the             | det      | hill            | []                  \n",
      "hill            | pobj     | on              | [the]               \n",
      ".               | punct    | saw             | []                  \n"
     ]
    },
    {
     "data": {
      "text/html": [
       "<span class=\"tex2jax_ignore\"><svg xmlns=\"http://www.w3.org/2000/svg\" xmlns:xlink=\"http://www.w3.org/1999/xlink\" xml:lang=\"en\" id=\"e52767a47ccc4279b24c8bcb906ad580-0\" class=\"displacy\" width=\"890\" height=\"257.0\" direction=\"ltr\" style=\"max-width: none; height: 257.0px; color: #000000; background: #ffffff; font-family: Arial; direction: ltr\">\n",
       "<text class=\"displacy-token\" fill=\"currentColor\" text-anchor=\"middle\" y=\"167.0\">\n",
       "    <tspan class=\"displacy-word\" fill=\"currentColor\" x=\"50\">I</tspan>\n",
       "    <tspan class=\"displacy-tag\" dy=\"2em\" fill=\"currentColor\" x=\"50\">PRON</tspan>\n",
       "</text>\n",
       "\n",
       "<text class=\"displacy-token\" fill=\"currentColor\" text-anchor=\"middle\" y=\"167.0\">\n",
       "    <tspan class=\"displacy-word\" fill=\"currentColor\" x=\"170\">saw</tspan>\n",
       "    <tspan class=\"displacy-tag\" dy=\"2em\" fill=\"currentColor\" x=\"170\">VERB</tspan>\n",
       "</text>\n",
       "\n",
       "<text class=\"displacy-token\" fill=\"currentColor\" text-anchor=\"middle\" y=\"167.0\">\n",
       "    <tspan class=\"displacy-word\" fill=\"currentColor\" x=\"290\">the</tspan>\n",
       "    <tspan class=\"displacy-tag\" dy=\"2em\" fill=\"currentColor\" x=\"290\">DET</tspan>\n",
       "</text>\n",
       "\n",
       "<text class=\"displacy-token\" fill=\"currentColor\" text-anchor=\"middle\" y=\"167.0\">\n",
       "    <tspan class=\"displacy-word\" fill=\"currentColor\" x=\"410\">lady</tspan>\n",
       "    <tspan class=\"displacy-tag\" dy=\"2em\" fill=\"currentColor\" x=\"410\">NOUN</tspan>\n",
       "</text>\n",
       "\n",
       "<text class=\"displacy-token\" fill=\"currentColor\" text-anchor=\"middle\" y=\"167.0\">\n",
       "    <tspan class=\"displacy-word\" fill=\"currentColor\" x=\"530\">on</tspan>\n",
       "    <tspan class=\"displacy-tag\" dy=\"2em\" fill=\"currentColor\" x=\"530\">ADP</tspan>\n",
       "</text>\n",
       "\n",
       "<text class=\"displacy-token\" fill=\"currentColor\" text-anchor=\"middle\" y=\"167.0\">\n",
       "    <tspan class=\"displacy-word\" fill=\"currentColor\" x=\"650\">the</tspan>\n",
       "    <tspan class=\"displacy-tag\" dy=\"2em\" fill=\"currentColor\" x=\"650\">DET</tspan>\n",
       "</text>\n",
       "\n",
       "<text class=\"displacy-token\" fill=\"currentColor\" text-anchor=\"middle\" y=\"167.0\">\n",
       "    <tspan class=\"displacy-word\" fill=\"currentColor\" x=\"770\">hill.</tspan>\n",
       "    <tspan class=\"displacy-tag\" dy=\"2em\" fill=\"currentColor\" x=\"770\">NOUN</tspan>\n",
       "</text>\n",
       "\n",
       "<g class=\"displacy-arrow\">\n",
       "    <path class=\"displacy-arc\" id=\"arrow-e52767a47ccc4279b24c8bcb906ad580-0-0\" stroke-width=\"2px\" d=\"M70,122.0 C70,62.0 165.0,62.0 165.0,122.0\" fill=\"none\" stroke=\"currentColor\"/>\n",
       "    <text dy=\"1.25em\" style=\"font-size: 0.8em; letter-spacing: 1px\">\n",
       "        <textPath xlink:href=\"#arrow-e52767a47ccc4279b24c8bcb906ad580-0-0\" class=\"displacy-label\" startOffset=\"50%\" side=\"left\" fill=\"currentColor\" text-anchor=\"middle\">nsubj</textPath>\n",
       "    </text>\n",
       "    <path class=\"displacy-arrowhead\" d=\"M70,124.0 L62,112.0 78,112.0\" fill=\"currentColor\"/>\n",
       "</g>\n",
       "\n",
       "<g class=\"displacy-arrow\">\n",
       "    <path class=\"displacy-arc\" id=\"arrow-e52767a47ccc4279b24c8bcb906ad580-0-1\" stroke-width=\"2px\" d=\"M310,122.0 C310,62.0 405.0,62.0 405.0,122.0\" fill=\"none\" stroke=\"currentColor\"/>\n",
       "    <text dy=\"1.25em\" style=\"font-size: 0.8em; letter-spacing: 1px\">\n",
       "        <textPath xlink:href=\"#arrow-e52767a47ccc4279b24c8bcb906ad580-0-1\" class=\"displacy-label\" startOffset=\"50%\" side=\"left\" fill=\"currentColor\" text-anchor=\"middle\">det</textPath>\n",
       "    </text>\n",
       "    <path class=\"displacy-arrowhead\" d=\"M310,124.0 L302,112.0 318,112.0\" fill=\"currentColor\"/>\n",
       "</g>\n",
       "\n",
       "<g class=\"displacy-arrow\">\n",
       "    <path class=\"displacy-arc\" id=\"arrow-e52767a47ccc4279b24c8bcb906ad580-0-2\" stroke-width=\"2px\" d=\"M190,122.0 C190,2.0 410.0,2.0 410.0,122.0\" fill=\"none\" stroke=\"currentColor\"/>\n",
       "    <text dy=\"1.25em\" style=\"font-size: 0.8em; letter-spacing: 1px\">\n",
       "        <textPath xlink:href=\"#arrow-e52767a47ccc4279b24c8bcb906ad580-0-2\" class=\"displacy-label\" startOffset=\"50%\" side=\"left\" fill=\"currentColor\" text-anchor=\"middle\">dobj</textPath>\n",
       "    </text>\n",
       "    <path class=\"displacy-arrowhead\" d=\"M410.0,124.0 L418.0,112.0 402.0,112.0\" fill=\"currentColor\"/>\n",
       "</g>\n",
       "\n",
       "<g class=\"displacy-arrow\">\n",
       "    <path class=\"displacy-arc\" id=\"arrow-e52767a47ccc4279b24c8bcb906ad580-0-3\" stroke-width=\"2px\" d=\"M430,122.0 C430,62.0 525.0,62.0 525.0,122.0\" fill=\"none\" stroke=\"currentColor\"/>\n",
       "    <text dy=\"1.25em\" style=\"font-size: 0.8em; letter-spacing: 1px\">\n",
       "        <textPath xlink:href=\"#arrow-e52767a47ccc4279b24c8bcb906ad580-0-3\" class=\"displacy-label\" startOffset=\"50%\" side=\"left\" fill=\"currentColor\" text-anchor=\"middle\">prep</textPath>\n",
       "    </text>\n",
       "    <path class=\"displacy-arrowhead\" d=\"M525.0,124.0 L533.0,112.0 517.0,112.0\" fill=\"currentColor\"/>\n",
       "</g>\n",
       "\n",
       "<g class=\"displacy-arrow\">\n",
       "    <path class=\"displacy-arc\" id=\"arrow-e52767a47ccc4279b24c8bcb906ad580-0-4\" stroke-width=\"2px\" d=\"M670,122.0 C670,62.0 765.0,62.0 765.0,122.0\" fill=\"none\" stroke=\"currentColor\"/>\n",
       "    <text dy=\"1.25em\" style=\"font-size: 0.8em; letter-spacing: 1px\">\n",
       "        <textPath xlink:href=\"#arrow-e52767a47ccc4279b24c8bcb906ad580-0-4\" class=\"displacy-label\" startOffset=\"50%\" side=\"left\" fill=\"currentColor\" text-anchor=\"middle\">det</textPath>\n",
       "    </text>\n",
       "    <path class=\"displacy-arrowhead\" d=\"M670,124.0 L662,112.0 678,112.0\" fill=\"currentColor\"/>\n",
       "</g>\n",
       "\n",
       "<g class=\"displacy-arrow\">\n",
       "    <path class=\"displacy-arc\" id=\"arrow-e52767a47ccc4279b24c8bcb906ad580-0-5\" stroke-width=\"2px\" d=\"M550,122.0 C550,2.0 770.0,2.0 770.0,122.0\" fill=\"none\" stroke=\"currentColor\"/>\n",
       "    <text dy=\"1.25em\" style=\"font-size: 0.8em; letter-spacing: 1px\">\n",
       "        <textPath xlink:href=\"#arrow-e52767a47ccc4279b24c8bcb906ad580-0-5\" class=\"displacy-label\" startOffset=\"50%\" side=\"left\" fill=\"currentColor\" text-anchor=\"middle\">pobj</textPath>\n",
       "    </text>\n",
       "    <path class=\"displacy-arrowhead\" d=\"M770.0,124.0 L778.0,112.0 762.0,112.0\" fill=\"currentColor\"/>\n",
       "</g>\n",
       "</svg></span>"
      ],
      "text/plain": [
       "<IPython.core.display.HTML object>"
      ]
     },
     "metadata": {},
     "output_type": "display_data"
    },
    {
     "name": "stdout",
     "output_type": "stream",
     "text": [
      "\n",
      "\n",
      "\n",
      "THE SENTENCE IS: We ate octopus and shells for dinner.\n",
      "Token           | Relation | Head            | Children            \n",
      "----------------------------------------------------------------------\n",
      "We              | nsubj    | ate             | []                  \n",
      "ate             | ROOT     | ate             | [We, octopus, .]    \n",
      "octopus         | dobj     | ate             | [and, shells]       \n",
      "and             | cc       | octopus         | []                  \n",
      "shells          | conj     | octopus         | [for]               \n",
      "for             | prep     | shells          | [dinner]            \n",
      "dinner          | pobj     | for             | []                  \n",
      ".               | punct    | ate             | []                  \n"
     ]
    },
    {
     "data": {
      "text/html": [
       "<span class=\"tex2jax_ignore\"><svg xmlns=\"http://www.w3.org/2000/svg\" xmlns:xlink=\"http://www.w3.org/1999/xlink\" xml:lang=\"en\" id=\"16382246a3cb42d9afd8de48ee823f93-0\" class=\"displacy\" width=\"890\" height=\"257.0\" direction=\"ltr\" style=\"max-width: none; height: 257.0px; color: #000000; background: #ffffff; font-family: Arial; direction: ltr\">\n",
       "<text class=\"displacy-token\" fill=\"currentColor\" text-anchor=\"middle\" y=\"167.0\">\n",
       "    <tspan class=\"displacy-word\" fill=\"currentColor\" x=\"50\">We</tspan>\n",
       "    <tspan class=\"displacy-tag\" dy=\"2em\" fill=\"currentColor\" x=\"50\">PRON</tspan>\n",
       "</text>\n",
       "\n",
       "<text class=\"displacy-token\" fill=\"currentColor\" text-anchor=\"middle\" y=\"167.0\">\n",
       "    <tspan class=\"displacy-word\" fill=\"currentColor\" x=\"170\">ate</tspan>\n",
       "    <tspan class=\"displacy-tag\" dy=\"2em\" fill=\"currentColor\" x=\"170\">VERB</tspan>\n",
       "</text>\n",
       "\n",
       "<text class=\"displacy-token\" fill=\"currentColor\" text-anchor=\"middle\" y=\"167.0\">\n",
       "    <tspan class=\"displacy-word\" fill=\"currentColor\" x=\"290\">octopus</tspan>\n",
       "    <tspan class=\"displacy-tag\" dy=\"2em\" fill=\"currentColor\" x=\"290\">NOUN</tspan>\n",
       "</text>\n",
       "\n",
       "<text class=\"displacy-token\" fill=\"currentColor\" text-anchor=\"middle\" y=\"167.0\">\n",
       "    <tspan class=\"displacy-word\" fill=\"currentColor\" x=\"410\">and</tspan>\n",
       "    <tspan class=\"displacy-tag\" dy=\"2em\" fill=\"currentColor\" x=\"410\">CCONJ</tspan>\n",
       "</text>\n",
       "\n",
       "<text class=\"displacy-token\" fill=\"currentColor\" text-anchor=\"middle\" y=\"167.0\">\n",
       "    <tspan class=\"displacy-word\" fill=\"currentColor\" x=\"530\">shells</tspan>\n",
       "    <tspan class=\"displacy-tag\" dy=\"2em\" fill=\"currentColor\" x=\"530\">NOUN</tspan>\n",
       "</text>\n",
       "\n",
       "<text class=\"displacy-token\" fill=\"currentColor\" text-anchor=\"middle\" y=\"167.0\">\n",
       "    <tspan class=\"displacy-word\" fill=\"currentColor\" x=\"650\">for</tspan>\n",
       "    <tspan class=\"displacy-tag\" dy=\"2em\" fill=\"currentColor\" x=\"650\">ADP</tspan>\n",
       "</text>\n",
       "\n",
       "<text class=\"displacy-token\" fill=\"currentColor\" text-anchor=\"middle\" y=\"167.0\">\n",
       "    <tspan class=\"displacy-word\" fill=\"currentColor\" x=\"770\">dinner.</tspan>\n",
       "    <tspan class=\"displacy-tag\" dy=\"2em\" fill=\"currentColor\" x=\"770\">NOUN</tspan>\n",
       "</text>\n",
       "\n",
       "<g class=\"displacy-arrow\">\n",
       "    <path class=\"displacy-arc\" id=\"arrow-16382246a3cb42d9afd8de48ee823f93-0-0\" stroke-width=\"2px\" d=\"M70,122.0 C70,62.0 165.0,62.0 165.0,122.0\" fill=\"none\" stroke=\"currentColor\"/>\n",
       "    <text dy=\"1.25em\" style=\"font-size: 0.8em; letter-spacing: 1px\">\n",
       "        <textPath xlink:href=\"#arrow-16382246a3cb42d9afd8de48ee823f93-0-0\" class=\"displacy-label\" startOffset=\"50%\" side=\"left\" fill=\"currentColor\" text-anchor=\"middle\">nsubj</textPath>\n",
       "    </text>\n",
       "    <path class=\"displacy-arrowhead\" d=\"M70,124.0 L62,112.0 78,112.0\" fill=\"currentColor\"/>\n",
       "</g>\n",
       "\n",
       "<g class=\"displacy-arrow\">\n",
       "    <path class=\"displacy-arc\" id=\"arrow-16382246a3cb42d9afd8de48ee823f93-0-1\" stroke-width=\"2px\" d=\"M190,122.0 C190,62.0 285.0,62.0 285.0,122.0\" fill=\"none\" stroke=\"currentColor\"/>\n",
       "    <text dy=\"1.25em\" style=\"font-size: 0.8em; letter-spacing: 1px\">\n",
       "        <textPath xlink:href=\"#arrow-16382246a3cb42d9afd8de48ee823f93-0-1\" class=\"displacy-label\" startOffset=\"50%\" side=\"left\" fill=\"currentColor\" text-anchor=\"middle\">dobj</textPath>\n",
       "    </text>\n",
       "    <path class=\"displacy-arrowhead\" d=\"M285.0,124.0 L293.0,112.0 277.0,112.0\" fill=\"currentColor\"/>\n",
       "</g>\n",
       "\n",
       "<g class=\"displacy-arrow\">\n",
       "    <path class=\"displacy-arc\" id=\"arrow-16382246a3cb42d9afd8de48ee823f93-0-2\" stroke-width=\"2px\" d=\"M310,122.0 C310,62.0 405.0,62.0 405.0,122.0\" fill=\"none\" stroke=\"currentColor\"/>\n",
       "    <text dy=\"1.25em\" style=\"font-size: 0.8em; letter-spacing: 1px\">\n",
       "        <textPath xlink:href=\"#arrow-16382246a3cb42d9afd8de48ee823f93-0-2\" class=\"displacy-label\" startOffset=\"50%\" side=\"left\" fill=\"currentColor\" text-anchor=\"middle\">cc</textPath>\n",
       "    </text>\n",
       "    <path class=\"displacy-arrowhead\" d=\"M405.0,124.0 L413.0,112.0 397.0,112.0\" fill=\"currentColor\"/>\n",
       "</g>\n",
       "\n",
       "<g class=\"displacy-arrow\">\n",
       "    <path class=\"displacy-arc\" id=\"arrow-16382246a3cb42d9afd8de48ee823f93-0-3\" stroke-width=\"2px\" d=\"M310,122.0 C310,2.0 530.0,2.0 530.0,122.0\" fill=\"none\" stroke=\"currentColor\"/>\n",
       "    <text dy=\"1.25em\" style=\"font-size: 0.8em; letter-spacing: 1px\">\n",
       "        <textPath xlink:href=\"#arrow-16382246a3cb42d9afd8de48ee823f93-0-3\" class=\"displacy-label\" startOffset=\"50%\" side=\"left\" fill=\"currentColor\" text-anchor=\"middle\">conj</textPath>\n",
       "    </text>\n",
       "    <path class=\"displacy-arrowhead\" d=\"M530.0,124.0 L538.0,112.0 522.0,112.0\" fill=\"currentColor\"/>\n",
       "</g>\n",
       "\n",
       "<g class=\"displacy-arrow\">\n",
       "    <path class=\"displacy-arc\" id=\"arrow-16382246a3cb42d9afd8de48ee823f93-0-4\" stroke-width=\"2px\" d=\"M550,122.0 C550,62.0 645.0,62.0 645.0,122.0\" fill=\"none\" stroke=\"currentColor\"/>\n",
       "    <text dy=\"1.25em\" style=\"font-size: 0.8em; letter-spacing: 1px\">\n",
       "        <textPath xlink:href=\"#arrow-16382246a3cb42d9afd8de48ee823f93-0-4\" class=\"displacy-label\" startOffset=\"50%\" side=\"left\" fill=\"currentColor\" text-anchor=\"middle\">prep</textPath>\n",
       "    </text>\n",
       "    <path class=\"displacy-arrowhead\" d=\"M645.0,124.0 L653.0,112.0 637.0,112.0\" fill=\"currentColor\"/>\n",
       "</g>\n",
       "\n",
       "<g class=\"displacy-arrow\">\n",
       "    <path class=\"displacy-arc\" id=\"arrow-16382246a3cb42d9afd8de48ee823f93-0-5\" stroke-width=\"2px\" d=\"M670,122.0 C670,62.0 765.0,62.0 765.0,122.0\" fill=\"none\" stroke=\"currentColor\"/>\n",
       "    <text dy=\"1.25em\" style=\"font-size: 0.8em; letter-spacing: 1px\">\n",
       "        <textPath xlink:href=\"#arrow-16382246a3cb42d9afd8de48ee823f93-0-5\" class=\"displacy-label\" startOffset=\"50%\" side=\"left\" fill=\"currentColor\" text-anchor=\"middle\">pobj</textPath>\n",
       "    </text>\n",
       "    <path class=\"displacy-arrowhead\" d=\"M765.0,124.0 L773.0,112.0 757.0,112.0\" fill=\"currentColor\"/>\n",
       "</g>\n",
       "</svg></span>"
      ],
      "text/plain": [
       "<IPython.core.display.HTML object>"
      ]
     },
     "metadata": {},
     "output_type": "display_data"
    },
    {
     "name": "stdout",
     "output_type": "stream",
     "text": [
      "\n",
      "\n",
      "\n",
      "THE SENTENCE IS: Anna and Peter saw us.\n",
      "Token           | Relation | Head            | Children            \n",
      "----------------------------------------------------------------------\n",
      "Anna            | nsubj    | saw             | [and, Peter]        \n",
      "and             | cc       | Anna            | []                  \n",
      "Peter           | conj     | Anna            | []                  \n",
      "saw             | ROOT     | saw             | [Anna, us, .]       \n",
      "us              | dobj     | saw             | []                  \n",
      ".               | punct    | saw             | []                  \n"
     ]
    },
    {
     "data": {
      "text/html": [
       "<span class=\"tex2jax_ignore\"><svg xmlns=\"http://www.w3.org/2000/svg\" xmlns:xlink=\"http://www.w3.org/1999/xlink\" xml:lang=\"en\" id=\"46c7e13d51494188abddfb54471b0916-0\" class=\"displacy\" width=\"650\" height=\"317.0\" direction=\"ltr\" style=\"max-width: none; height: 317.0px; color: #000000; background: #ffffff; font-family: Arial; direction: ltr\">\n",
       "<text class=\"displacy-token\" fill=\"currentColor\" text-anchor=\"middle\" y=\"227.0\">\n",
       "    <tspan class=\"displacy-word\" fill=\"currentColor\" x=\"50\">Anna</tspan>\n",
       "    <tspan class=\"displacy-tag\" dy=\"2em\" fill=\"currentColor\" x=\"50\">PROPN</tspan>\n",
       "</text>\n",
       "\n",
       "<text class=\"displacy-token\" fill=\"currentColor\" text-anchor=\"middle\" y=\"227.0\">\n",
       "    <tspan class=\"displacy-word\" fill=\"currentColor\" x=\"170\">and</tspan>\n",
       "    <tspan class=\"displacy-tag\" dy=\"2em\" fill=\"currentColor\" x=\"170\">CCONJ</tspan>\n",
       "</text>\n",
       "\n",
       "<text class=\"displacy-token\" fill=\"currentColor\" text-anchor=\"middle\" y=\"227.0\">\n",
       "    <tspan class=\"displacy-word\" fill=\"currentColor\" x=\"290\">Peter</tspan>\n",
       "    <tspan class=\"displacy-tag\" dy=\"2em\" fill=\"currentColor\" x=\"290\">PROPN</tspan>\n",
       "</text>\n",
       "\n",
       "<text class=\"displacy-token\" fill=\"currentColor\" text-anchor=\"middle\" y=\"227.0\">\n",
       "    <tspan class=\"displacy-word\" fill=\"currentColor\" x=\"410\">saw</tspan>\n",
       "    <tspan class=\"displacy-tag\" dy=\"2em\" fill=\"currentColor\" x=\"410\">VERB</tspan>\n",
       "</text>\n",
       "\n",
       "<text class=\"displacy-token\" fill=\"currentColor\" text-anchor=\"middle\" y=\"227.0\">\n",
       "    <tspan class=\"displacy-word\" fill=\"currentColor\" x=\"530\">us.</tspan>\n",
       "    <tspan class=\"displacy-tag\" dy=\"2em\" fill=\"currentColor\" x=\"530\">PRON</tspan>\n",
       "</text>\n",
       "\n",
       "<g class=\"displacy-arrow\">\n",
       "    <path class=\"displacy-arc\" id=\"arrow-46c7e13d51494188abddfb54471b0916-0-0\" stroke-width=\"2px\" d=\"M70,182.0 C70,2.0 410.0,2.0 410.0,182.0\" fill=\"none\" stroke=\"currentColor\"/>\n",
       "    <text dy=\"1.25em\" style=\"font-size: 0.8em; letter-spacing: 1px\">\n",
       "        <textPath xlink:href=\"#arrow-46c7e13d51494188abddfb54471b0916-0-0\" class=\"displacy-label\" startOffset=\"50%\" side=\"left\" fill=\"currentColor\" text-anchor=\"middle\">nsubj</textPath>\n",
       "    </text>\n",
       "    <path class=\"displacy-arrowhead\" d=\"M70,184.0 L62,172.0 78,172.0\" fill=\"currentColor\"/>\n",
       "</g>\n",
       "\n",
       "<g class=\"displacy-arrow\">\n",
       "    <path class=\"displacy-arc\" id=\"arrow-46c7e13d51494188abddfb54471b0916-0-1\" stroke-width=\"2px\" d=\"M70,182.0 C70,122.0 160.0,122.0 160.0,182.0\" fill=\"none\" stroke=\"currentColor\"/>\n",
       "    <text dy=\"1.25em\" style=\"font-size: 0.8em; letter-spacing: 1px\">\n",
       "        <textPath xlink:href=\"#arrow-46c7e13d51494188abddfb54471b0916-0-1\" class=\"displacy-label\" startOffset=\"50%\" side=\"left\" fill=\"currentColor\" text-anchor=\"middle\">cc</textPath>\n",
       "    </text>\n",
       "    <path class=\"displacy-arrowhead\" d=\"M160.0,184.0 L168.0,172.0 152.0,172.0\" fill=\"currentColor\"/>\n",
       "</g>\n",
       "\n",
       "<g class=\"displacy-arrow\">\n",
       "    <path class=\"displacy-arc\" id=\"arrow-46c7e13d51494188abddfb54471b0916-0-2\" stroke-width=\"2px\" d=\"M70,182.0 C70,62.0 285.0,62.0 285.0,182.0\" fill=\"none\" stroke=\"currentColor\"/>\n",
       "    <text dy=\"1.25em\" style=\"font-size: 0.8em; letter-spacing: 1px\">\n",
       "        <textPath xlink:href=\"#arrow-46c7e13d51494188abddfb54471b0916-0-2\" class=\"displacy-label\" startOffset=\"50%\" side=\"left\" fill=\"currentColor\" text-anchor=\"middle\">conj</textPath>\n",
       "    </text>\n",
       "    <path class=\"displacy-arrowhead\" d=\"M285.0,184.0 L293.0,172.0 277.0,172.0\" fill=\"currentColor\"/>\n",
       "</g>\n",
       "\n",
       "<g class=\"displacy-arrow\">\n",
       "    <path class=\"displacy-arc\" id=\"arrow-46c7e13d51494188abddfb54471b0916-0-3\" stroke-width=\"2px\" d=\"M430,182.0 C430,122.0 520.0,122.0 520.0,182.0\" fill=\"none\" stroke=\"currentColor\"/>\n",
       "    <text dy=\"1.25em\" style=\"font-size: 0.8em; letter-spacing: 1px\">\n",
       "        <textPath xlink:href=\"#arrow-46c7e13d51494188abddfb54471b0916-0-3\" class=\"displacy-label\" startOffset=\"50%\" side=\"left\" fill=\"currentColor\" text-anchor=\"middle\">dobj</textPath>\n",
       "    </text>\n",
       "    <path class=\"displacy-arrowhead\" d=\"M520.0,184.0 L528.0,172.0 512.0,172.0\" fill=\"currentColor\"/>\n",
       "</g>\n",
       "</svg></span>"
      ],
      "text/plain": [
       "<IPython.core.display.HTML object>"
      ]
     },
     "metadata": {},
     "output_type": "display_data"
    },
    {
     "name": "stdout",
     "output_type": "stream",
     "text": [
      "\n",
      "\n",
      "\n"
     ]
    }
   ],
   "source": [
    "for sentence in ['I saw the lady on the hill.', 'We ate octopus and shells for dinner.', 'Anna and Peter saw us.']:\n",
    "    print('THE SENTENCE IS: {0}'.format(sentence))\n",
    "    print_and_plot_dependency(sentence)\n",
    "    print('\\n\\n')"
   ]
  },
  {
   "cell_type": "code",
   "execution_count": null,
   "id": "bb14c642-037c-4a99-8c9e-70656fc190ea",
   "metadata": {},
   "outputs": [],
   "source": []
  }
 ],
 "metadata": {
  "kernelspec": {
   "display_name": "Python 3 (ipykernel)",
   "language": "python",
   "name": "python3"
  },
  "language_info": {
   "codemirror_mode": {
    "name": "ipython",
    "version": 3
   },
   "file_extension": ".py",
   "mimetype": "text/x-python",
   "name": "python",
   "nbconvert_exporter": "python",
   "pygments_lexer": "ipython3",
   "version": "3.7.0"
  }
 },
 "nbformat": 4,
 "nbformat_minor": 5
}
